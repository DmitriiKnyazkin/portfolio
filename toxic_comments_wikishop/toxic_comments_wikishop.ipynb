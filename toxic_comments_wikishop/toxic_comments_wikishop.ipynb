{
 "cells": [
  {
   "cell_type": "markdown",
   "id": "afed2cc9",
   "metadata": {},
   "source": [
    "# Проект для «Викишоп»\n",
    "Интернет-магазин «Викишоп» запускает новый сервис. Теперь пользователи могут редактировать и дополнять описания товаров, как в вики-сообществах. То есть клиенты предлагают свои правки и комментируют изменения других. Магазину нужен инструмент, который будет искать токсичные комментарии и отправлять их на модерацию."
   ]
  },
  {
   "cell_type": "code",
   "execution_count": 1,
   "id": "b8e31a09",
   "metadata": {},
   "outputs": [],
   "source": [
    "import pandas as pd\n",
    "import numpy as np \n",
    "from sklearn.linear_model import LogisticRegression\n",
    "from sklearn.model_selection import train_test_split\n",
    "from nltk.stem.wordnet import WordNetLemmatizer\n",
    "from nltk.corpus import wordnet\n",
    "import nltk\n",
    "import re\n",
    "from nltk.corpus import stopwords\n",
    "from nltk.corpus import stopwords as nltk_stopwords\n",
    "from sklearn.feature_extraction.text import CountVectorizer\n",
    "from sklearn.feature_extraction.text import TfidfVectorizer\n",
    "from sklearn.tree import DecisionTreeClassifier\n",
    "from sklearn.ensemble import RandomForestClassifier\n",
    "from tqdm import tqdm\n",
    "import seaborn as sns\n",
    "import matplotlib.pyplot as plt\n",
    "from sklearn.metrics import f1_score"
   ]
  },
  {
   "cell_type": "markdown",
   "id": "66941678",
   "metadata": {},
   "source": [
    "# Загрузка и подготовка данных."
   ]
  },
  {
   "cell_type": "code",
   "execution_count": 2,
   "id": "53b5989c",
   "metadata": {},
   "outputs": [],
   "source": [
    "# Для локальной версии\n",
    "#df = pd.read_csv(r'C:\\Users\\dmitr\\Downloads\\toxic_comments.csv')\n",
    "df = pd.read_csv('****/toxic_comments.csv')"
   ]
  },
  {
   "cell_type": "markdown",
   "id": "b4c277e7",
   "metadata": {},
   "source": [
    "# Посмотрим на данные"
   ]
  },
  {
   "cell_type": "code",
   "execution_count": 4,
   "id": "bb63a3e0",
   "metadata": {},
   "outputs": [
    {
     "name": "stdout",
     "output_type": "stream",
     "text": [
      "<class 'pandas.core.frame.DataFrame'>\n",
      "RangeIndex: 159571 entries, 0 to 159570\n",
      "Data columns (total 2 columns):\n",
      " #   Column  Non-Null Count   Dtype \n",
      "---  ------  --------------   ----- \n",
      " 0   text    159571 non-null  object\n",
      " 1   toxic   159571 non-null  int64 \n",
      "dtypes: int64(1), object(1)\n",
      "memory usage: 2.4+ MB\n"
     ]
    },
    {
     "data": {
      "text/plain": [
       "None"
      ]
     },
     "metadata": {},
     "output_type": "display_data"
    }
   ],
   "source": [
    "display(df.info())"
   ]
  },
  {
   "cell_type": "code",
   "execution_count": 5,
   "id": "9319b9ab",
   "metadata": {},
   "outputs": [
    {
     "data": {
      "text/html": [
       "<div>\n",
       "<style scoped>\n",
       "    .dataframe tbody tr th:only-of-type {\n",
       "        vertical-align: middle;\n",
       "    }\n",
       "\n",
       "    .dataframe tbody tr th {\n",
       "        vertical-align: top;\n",
       "    }\n",
       "\n",
       "    .dataframe thead th {\n",
       "        text-align: right;\n",
       "    }\n",
       "</style>\n",
       "<table border=\"1\" class=\"dataframe\">\n",
       "  <thead>\n",
       "    <tr style=\"text-align: right;\">\n",
       "      <th></th>\n",
       "      <th>text</th>\n",
       "      <th>toxic</th>\n",
       "    </tr>\n",
       "  </thead>\n",
       "  <tbody>\n",
       "    <tr>\n",
       "      <th>47861</th>\n",
       "      <td>\"\\n\\n Help \\n\\nHi Julius, I was wondering if y...</td>\n",
       "      <td>0</td>\n",
       "    </tr>\n",
       "    <tr>\n",
       "      <th>87805</th>\n",
       "      <td>re: scott fivelson \\n\\nHello there.  I believe...</td>\n",
       "      <td>0</td>\n",
       "    </tr>\n",
       "    <tr>\n",
       "      <th>91980</th>\n",
       "      <td>WHAT A FREAK! \\n\\nHOLY CRAP YO, HAVE YOU SEEN ...</td>\n",
       "      <td>1</td>\n",
       "    </tr>\n",
       "    <tr>\n",
       "      <th>14321</th>\n",
       "      <td>\"\\n\\n Rasmussen Reports in Controversies and a...</td>\n",
       "      <td>0</td>\n",
       "    </tr>\n",
       "    <tr>\n",
       "      <th>29338</th>\n",
       "      <td>\"\\nI think reference number 191 is not that nu...</td>\n",
       "      <td>0</td>\n",
       "    </tr>\n",
       "    <tr>\n",
       "      <th>...</th>\n",
       "      <td>...</td>\n",
       "      <td>...</td>\n",
       "    </tr>\n",
       "    <tr>\n",
       "      <th>53103</th>\n",
       "      <td>\"In the 1943 Allied leaders' Tehran conference...</td>\n",
       "      <td>0</td>\n",
       "    </tr>\n",
       "    <tr>\n",
       "      <th>31906</th>\n",
       "      <td>I can change my IP at will asshole.</td>\n",
       "      <td>1</td>\n",
       "    </tr>\n",
       "    <tr>\n",
       "      <th>32645</th>\n",
       "      <td>SHANE DOUGLAS\\nHe is known to be a 50 cent fan...</td>\n",
       "      <td>0</td>\n",
       "    </tr>\n",
       "    <tr>\n",
       "      <th>68416</th>\n",
       "      <td>The reasons I dont contribute to Wikipedia any...</td>\n",
       "      <td>0</td>\n",
       "    </tr>\n",
       "    <tr>\n",
       "      <th>88361</th>\n",
       "      <td>Redirect\\nIs there any reason why this should ...</td>\n",
       "      <td>0</td>\n",
       "    </tr>\n",
       "  </tbody>\n",
       "</table>\n",
       "<p>15957 rows × 2 columns</p>\n",
       "</div>"
      ],
      "text/plain": [
       "                                                    text  toxic\n",
       "47861  \"\\n\\n Help \\n\\nHi Julius, I was wondering if y...      0\n",
       "87805  re: scott fivelson \\n\\nHello there.  I believe...      0\n",
       "91980  WHAT A FREAK! \\n\\nHOLY CRAP YO, HAVE YOU SEEN ...      1\n",
       "14321  \"\\n\\n Rasmussen Reports in Controversies and a...      0\n",
       "29338  \"\\nI think reference number 191 is not that nu...      0\n",
       "...                                                  ...    ...\n",
       "53103  \"In the 1943 Allied leaders' Tehran conference...      0\n",
       "31906                I can change my IP at will asshole.      1\n",
       "32645  SHANE DOUGLAS\\nHe is known to be a 50 cent fan...      0\n",
       "68416  The reasons I dont contribute to Wikipedia any...      0\n",
       "88361  Redirect\\nIs there any reason why this should ...      0\n",
       "\n",
       "[15957 rows x 2 columns]"
      ]
     },
     "execution_count": 5,
     "metadata": {},
     "output_type": "execute_result"
    }
   ],
   "source": [
    "df.sample(len(df)//10)"
   ]
  },
  {
   "cell_type": "markdown",
   "id": "12a0810c",
   "metadata": {},
   "source": [
    "# Сведем некоторые значения в таблицу для удобного восприятия"
   ]
  },
  {
   "cell_type": "code",
   "execution_count": 6,
   "id": "668557db",
   "metadata": {},
   "outputs": [],
   "source": [
    "table_eda = [[\"Количество коментариев\", len(df['toxic'])],\n",
    "         [\"Количество плохих коментариев\", df['toxic'].sum()],\n",
    "         [\"Максимальная длина коментария\", df['text'].str.len().max()],\n",
    "         [\"Минимальная длина коментария\", df['text'].str.len().min()],\n",
    "         [\"Средняя длина коментария\", int(df['text'].str.len().mean())],\n",
    "         ]\n",
    "table_eda\n",
    "table_eda_result = pd.DataFrame(table_eda, columns=[\"Параметр\",\"Значение\"])\n"
   ]
  },
  {
   "cell_type": "code",
   "execution_count": 7,
   "id": "fa75f63e",
   "metadata": {},
   "outputs": [
    {
     "data": {
      "text/html": [
       "<div>\n",
       "<style scoped>\n",
       "    .dataframe tbody tr th:only-of-type {\n",
       "        vertical-align: middle;\n",
       "    }\n",
       "\n",
       "    .dataframe tbody tr th {\n",
       "        vertical-align: top;\n",
       "    }\n",
       "\n",
       "    .dataframe thead th {\n",
       "        text-align: right;\n",
       "    }\n",
       "</style>\n",
       "<table border=\"1\" class=\"dataframe\">\n",
       "  <thead>\n",
       "    <tr style=\"text-align: right;\">\n",
       "      <th></th>\n",
       "      <th>Параметр</th>\n",
       "      <th>Значение</th>\n",
       "    </tr>\n",
       "  </thead>\n",
       "  <tbody>\n",
       "    <tr>\n",
       "      <th>0</th>\n",
       "      <td>Количество коментариев</td>\n",
       "      <td>159571</td>\n",
       "    </tr>\n",
       "    <tr>\n",
       "      <th>1</th>\n",
       "      <td>Количество плохих коментариев</td>\n",
       "      <td>16225</td>\n",
       "    </tr>\n",
       "    <tr>\n",
       "      <th>2</th>\n",
       "      <td>Максимальная длина коментария</td>\n",
       "      <td>5000</td>\n",
       "    </tr>\n",
       "    <tr>\n",
       "      <th>3</th>\n",
       "      <td>Минимальная длина коментария</td>\n",
       "      <td>6</td>\n",
       "    </tr>\n",
       "    <tr>\n",
       "      <th>4</th>\n",
       "      <td>Средняя длина коментария</td>\n",
       "      <td>394</td>\n",
       "    </tr>\n",
       "  </tbody>\n",
       "</table>\n",
       "</div>"
      ],
      "text/plain": [
       "                        Параметр  Значение\n",
       "0         Количество коментариев    159571\n",
       "1  Количество плохих коментариев     16225\n",
       "2  Максимальная длина коментария      5000\n",
       "3   Минимальная длина коментария         6\n",
       "4       Средняя длина коментария       394"
      ]
     },
     "execution_count": 7,
     "metadata": {},
     "output_type": "execute_result"
    }
   ],
   "source": [
    "table_eda_result"
   ]
  },
  {
   "cell_type": "code",
   "execution_count": 8,
   "id": "ea4fc9a1",
   "metadata": {},
   "outputs": [
    {
     "data": {
      "image/png": "[encoded data removed]",
      "text/plain": [
       "<Figure size 432x288 with 1 Axes>"
      ]
     },
     "metadata": {
      "needs_background": "light"
     },
     "output_type": "display_data"
    }
   ],
   "source": [
    "df['toxic'].value_counts().plot.bar(grid=True)\n",
    "plt.title(\"Распределение положительных и отрицательных коментариев\", fontsize=20)\n",
    "plt.xlabel('Положительный    Отрицательный', fontsize=15)\n",
    "plt.ylabel('Количество', fontsize=15)\n",
    "plt.show()"
   ]
  },
  {
   "cell_type": "code",
   "execution_count": 9,
   "id": "4043efa5",
   "metadata": {},
   "outputs": [
    {
     "name": "stderr",
     "output_type": "stream",
     "text": [
      "/opt/conda/lib/python3.9/site-packages/seaborn/_decorators.py:36: FutureWarning: Pass the following variable as a keyword arg: x. From version 0.12, the only valid positional argument will be `data`, and passing other arguments without an explicit keyword will result in an error or misinterpretation.\n",
      "  warnings.warn(\n"
     ]
    },
    {
     "data": {
      "image/png": "[encoded data removed]",
      "text/plain": [
       "<Figure size 432x288 with 1 Axes>"
      ]
     },
     "metadata": {
      "needs_background": "light"
     },
     "output_type": "display_data"
    },
    {
     "name": "stdout",
     "output_type": "stream",
     "text": [
      "CPU times: user 169 ms, sys: 15.7 ms, total: 185 ms\n",
      "Wall time: 192 ms\n"
     ]
    }
   ],
   "source": [
    "%%time\n",
    "sns.boxplot(df['text'].str.len())\n",
    "plt.xlabel('Распределение длин строк', fontsize=15)\n",
    "plt.xlim(0, 5000)\n",
    "plt.show()"
   ]
  },
  {
   "cell_type": "markdown",
   "id": "17043df5",
   "metadata": {},
   "source": [
    "# Подготовка данных"
   ]
  },
  {
   "cell_type": "code",
   "execution_count": 10,
   "id": "75d4f52f",
   "metadata": {},
   "outputs": [
    {
     "name": "stderr",
     "output_type": "stream",
     "text": [
      "  0%|          | 0/159571 [00:00<?, ?it/s]<timed exec>:2: SettingWithCopyWarning: \n",
      "A value is trying to be set on a copy of a slice from a DataFrame\n",
      "\n",
      "See the caveats in the documentation: https://pandas.pydata.org/pandas-docs/stable/user_guide/indexing.html#returning-a-view-versus-a-copy\n",
      "100%|██████████| 159571/159571 [04:34<00:00, 580.84it/s]"
     ]
    },
    {
     "name": "stdout",
     "output_type": "stream",
     "text": [
      "CPU times: user 4min 24s, sys: 6.12 s, total: 4min 30s\n",
      "Wall time: 4min 34s\n"
     ]
    },
    {
     "name": "stderr",
     "output_type": "stream",
     "text": [
      "\n"
     ]
    }
   ],
   "source": [
    "%%time\n",
    "for i in tqdm(range(0, len(df))):\n",
    "    df['text'][i] = df['text'][i].lower()"
   ]
  },
  {
   "cell_type": "code",
   "execution_count": 11,
   "id": "6555d1d0",
   "metadata": {},
   "outputs": [
    {
     "data": {
      "text/plain": [
       "46"
      ]
     },
     "execution_count": 11,
     "metadata": {},
     "output_type": "execute_result"
    }
   ],
   "source": [
    "df['text'].duplicated().sum()"
   ]
  },
  {
   "cell_type": "code",
   "execution_count": 12,
   "id": "a8c39100",
   "metadata": {},
   "outputs": [],
   "source": [
    "df.drop_duplicates(subset=['text'], inplace = True, ignore_index = True)"
   ]
  },
  {
   "cell_type": "code",
   "execution_count": 13,
   "id": "2c4dcb1d",
   "metadata": {},
   "outputs": [
    {
     "data": {
      "text/plain": [
       "0"
      ]
     },
     "execution_count": 13,
     "metadata": {},
     "output_type": "execute_result"
    }
   ],
   "source": [
    "df['text'].duplicated().sum()"
   ]
  },
  {
   "cell_type": "code",
   "execution_count": 14,
   "id": "2b5cbd85",
   "metadata": {},
   "outputs": [],
   "source": [
    "# Уменьшим размер датасета, заменим int64 на int8.\n",
    "df['toxic'] = df['toxic'].astype('int8')"
   ]
  },
  {
   "cell_type": "code",
   "execution_count": 15,
   "id": "daddeb45",
   "metadata": {},
   "outputs": [
    {
     "name": "stdout",
     "output_type": "stream",
     "text": [
      "<class 'pandas.core.frame.DataFrame'>\n",
      "RangeIndex: 159525 entries, 0 to 159524\n",
      "Data columns (total 2 columns):\n",
      " #   Column  Non-Null Count   Dtype \n",
      "---  ------  --------------   ----- \n",
      " 0   text    159525 non-null  object\n",
      " 1   toxic   159525 non-null  int8  \n",
      "dtypes: int8(1), object(1)\n",
      "memory usage: 1.4+ MB\n"
     ]
    },
    {
     "data": {
      "text/plain": [
       "None"
      ]
     },
     "metadata": {},
     "output_type": "display_data"
    }
   ],
   "source": [
    "display(df.info())"
   ]
  },
  {
   "cell_type": "code",
   "execution_count": 16,
   "id": "51c4d4cf",
   "metadata": {},
   "outputs": [],
   "source": [
    "lmtzr = WordNetLemmatizer()"
   ]
  },
  {
   "cell_type": "code",
   "execution_count": 17,
   "id": "892853ab",
   "metadata": {},
   "outputs": [],
   "source": [
    "def get_wordnet_pos(word):\n",
    "    tag = nltk.pos_tag([word])[0][1][0].upper()\n",
    "    tag_dict = {\"J\": wordnet.ADJ,\n",
    "                \"N\": wordnet.NOUN,\n",
    "                \"V\": wordnet.VERB,\n",
    "                \"R\": wordnet.ADV}\n",
    "    return tag_dict.get(tag, wordnet.NOUN)\n"
   ]
  },
  {
   "cell_type": "code",
   "execution_count": 19,
   "id": "67b4d384",
   "metadata": {},
   "outputs": [],
   "source": [
    "def tokenize_lemmatize_clear(value):\n",
    "    word_list = nltk.word_tokenize(value)\n",
    "    lemmatized_output = ' '.join([lmtzr.lemmatize(w, get_wordnet_pos(w)) for w in word_list])\n",
    "    lemm_text = re.sub(r'[^a-zA-Z]',' ', lemmatized_output)\n",
    "    return ' '.join(lemm_text.split())\n"
   ]
  },
  {
   "cell_type": "code",
   "execution_count": 20,
   "id": "b798ee20",
   "metadata": {},
   "outputs": [
    {
     "data": {
      "text/plain": [
       "'The strip bat be hang on their foot for best'"
      ]
     },
     "execution_count": 20,
     "metadata": {},
     "output_type": "execute_result"
    }
   ],
   "source": [
    "\n",
    "def lemmatize_text(value):\n",
    "    \n",
    "    word_list = nltk.word_tokenize(value)\n",
    "    lemmatized_output = ' '.join([lmtzr.lemmatize(w, get_wordnet_pos(w)) for w in word_list])\n",
    "    lemm_text = re.sub(r'[^a-zA-Z]',' ', lemmatized_output)\n",
    "    return ' '.join(lemm_text.split())\n",
    "    \n",
    "lemmatize_text(\"The striped bats are hanging on their feet for best\")\n",
    "    \n",
    "   "
   ]
  },
  {
   "cell_type": "code",
   "execution_count": 21,
   "id": "25a68f3c",
   "metadata": {},
   "outputs": [
    {
     "data": {
      "text/plain": [
       "159515    no he do not read it again i would have though...\n",
       "159516    auto guide and the motor press be not good sou...\n",
       "159517    please identify what part of blp applies becau...\n",
       "159518    catalan independentism be the social movement ...\n",
       "159519    the number in parenthesis be the additional de...\n",
       "159520    and for the second time of ask when your view ...\n",
       "159521    you should be ashamed of yourself that be a ho...\n",
       "159522    spitzer umm there no actual article for prosti...\n",
       "159523    and it look like it be actually you who put on...\n",
       "159524    and i really do n t think you understand i com...\n",
       "Name: text, dtype: object"
      ]
     },
     "execution_count": 21,
     "metadata": {},
     "output_type": "execute_result"
    }
   ],
   "source": [
    "df['text'][-10:].apply(lemmatize_text)"
   ]
  },
  {
   "cell_type": "markdown",
   "id": "0ba5104e",
   "metadata": {},
   "source": [
    "# Функция чистки, токенизации и лемматизации"
   ]
  },
  {
   "cell_type": "code",
   "execution_count": 23,
   "id": "c0c75ba9",
   "metadata": {},
   "outputs": [
    {
     "name": "stdout",
     "output_type": "stream",
     "text": [
      "CPU times: user 20min 8s, sys: 2min 21s, total: 22min 29s\n",
      "Wall time: 22min 30s\n"
     ]
    },
    {
     "data": {
      "text/plain": [
       "0         explanation why the edits make under my userna...\n",
       "1         d aww he match this background colour i m seem...\n",
       "2         hey man i m really not try to edit war it s ju...\n",
       "3         more i ca n t make any real suggestion on impr...\n",
       "4         you sir be my hero any chance you remember wha...\n",
       "                                ...                        \n",
       "159520    and for the second time of ask when your view ...\n",
       "159521    you should be ashamed of yourself that be a ho...\n",
       "159522    spitzer umm there no actual article for prosti...\n",
       "159523    and it look like it be actually you who put on...\n",
       "159524    and i really do n t think you understand i com...\n",
       "Name: text, Length: 159525, dtype: object"
      ]
     },
     "execution_count": 23,
     "metadata": {},
     "output_type": "execute_result"
    }
   ],
   "source": [
    "%%time\n",
    "df['text'].apply(tokenize_lemmatize_clear)"
   ]
  },
  {
   "cell_type": "code",
   "execution_count": 24,
   "id": "b5fa82e1",
   "metadata": {
    "scrolled": true
   },
   "outputs": [
    {
     "data": {
      "text/html": [
       "<div>\n",
       "<style scoped>\n",
       "    .dataframe tbody tr th:only-of-type {\n",
       "        vertical-align: middle;\n",
       "    }\n",
       "\n",
       "    .dataframe tbody tr th {\n",
       "        vertical-align: top;\n",
       "    }\n",
       "\n",
       "    .dataframe thead th {\n",
       "        text-align: right;\n",
       "    }\n",
       "</style>\n",
       "<table border=\"1\" class=\"dataframe\">\n",
       "  <thead>\n",
       "    <tr style=\"text-align: right;\">\n",
       "      <th></th>\n",
       "      <th>text</th>\n",
       "      <th>toxic</th>\n",
       "    </tr>\n",
       "  </thead>\n",
       "  <tbody>\n",
       "    <tr>\n",
       "      <th>0</th>\n",
       "      <td>explanation\\nwhy the edits made under my usern...</td>\n",
       "      <td>0</td>\n",
       "    </tr>\n",
       "    <tr>\n",
       "      <th>1</th>\n",
       "      <td>d'aww! he matches this background colour i'm s...</td>\n",
       "      <td>0</td>\n",
       "    </tr>\n",
       "    <tr>\n",
       "      <th>2</th>\n",
       "      <td>hey man, i'm really not trying to edit war. it...</td>\n",
       "      <td>0</td>\n",
       "    </tr>\n",
       "    <tr>\n",
       "      <th>3</th>\n",
       "      <td>\"\\nmore\\ni can't make any real suggestions on ...</td>\n",
       "      <td>0</td>\n",
       "    </tr>\n",
       "    <tr>\n",
       "      <th>4</th>\n",
       "      <td>you, sir, are my hero. any chance you remember...</td>\n",
       "      <td>0</td>\n",
       "    </tr>\n",
       "  </tbody>\n",
       "</table>\n",
       "</div>"
      ],
      "text/plain": [
       "                                                text  toxic\n",
       "0  explanation\\nwhy the edits made under my usern...      0\n",
       "1  d'aww! he matches this background colour i'm s...      0\n",
       "2  hey man, i'm really not trying to edit war. it...      0\n",
       "3  \"\\nmore\\ni can't make any real suggestions on ...      0\n",
       "4  you, sir, are my hero. any chance you remember...      0"
      ]
     },
     "execution_count": 24,
     "metadata": {},
     "output_type": "execute_result"
    }
   ],
   "source": [
    "df.head()"
   ]
  },
  {
   "cell_type": "code",
   "execution_count": 25,
   "id": "ac562a79",
   "metadata": {},
   "outputs": [],
   "source": [
    "df_train, df_valid_test = train_test_split(df, test_size=0.20, random_state=1902)\n",
    "\n",
    "df_test, df_valid = train_test_split(df_valid_test, test_size=0.50, random_state=1902)\n",
    "\n"
   ]
  },
  {
   "cell_type": "code",
   "execution_count": 26,
   "id": "32022d54",
   "metadata": {},
   "outputs": [],
   "source": [
    "corpus_train = df_train['text']\n",
    "corpus_valid = df_valid['text']\n",
    "corpus_test = df_test['text']"
   ]
  },
  {
   "cell_type": "code",
   "execution_count": 27,
   "id": "24c4a5ed",
   "metadata": {},
   "outputs": [],
   "source": [
    "target_train =  df_train['toxic']"
   ]
  },
  {
   "cell_type": "code",
   "execution_count": 28,
   "id": "aff34acb",
   "metadata": {},
   "outputs": [],
   "source": [
    "target_valid =  df_valid['toxic']"
   ]
  },
  {
   "cell_type": "code",
   "execution_count": 29,
   "id": "125806e8",
   "metadata": {},
   "outputs": [],
   "source": [
    "target_test =  df_test['toxic']"
   ]
  },
  {
   "cell_type": "code",
   "execution_count": 30,
   "id": "f32ee95c",
   "metadata": {},
   "outputs": [],
   "source": [
    "stop_words = set(nltk_stopwords.words('english'))"
   ]
  },
  {
   "cell_type": "code",
   "execution_count": 31,
   "id": "3ba18c8d",
   "metadata": {},
   "outputs": [],
   "source": [
    "count_tf_idf = TfidfVectorizer(stop_words=stop_words)"
   ]
  },
  {
   "cell_type": "code",
   "execution_count": 32,
   "id": "51c86931",
   "metadata": {},
   "outputs": [],
   "source": [
    "tf_idf_train = count_tf_idf.fit_transform(corpus_train)"
   ]
  },
  {
   "cell_type": "code",
   "execution_count": 33,
   "id": "670e4d02",
   "metadata": {},
   "outputs": [],
   "source": [
    "tf_idf_valid = count_tf_idf.transform(corpus_valid)"
   ]
  },
  {
   "cell_type": "code",
   "execution_count": 34,
   "id": "6051a6fc",
   "metadata": {},
   "outputs": [],
   "source": [
    "tf_idf_test = count_tf_idf.transform(corpus_test)"
   ]
  },
  {
   "cell_type": "code",
   "execution_count": 35,
   "id": "5f26d3ef",
   "metadata": {},
   "outputs": [
    {
     "name": "stdout",
     "output_type": "stream",
     "text": [
      "Размер матрицы train: (127620, 165923)\n"
     ]
    }
   ],
   "source": [
    "print(\"Размер матрицы train:\", tf_idf_train.shape)"
   ]
  },
  {
   "cell_type": "code",
   "execution_count": 36,
   "id": "446aeb36",
   "metadata": {},
   "outputs": [
    {
     "name": "stdout",
     "output_type": "stream",
     "text": [
      "Размер матрицы valid: (15953, 165923)\n"
     ]
    }
   ],
   "source": [
    "print(\"Размер матрицы valid:\", tf_idf_valid.shape)"
   ]
  },
  {
   "cell_type": "code",
   "execution_count": 37,
   "id": "363e5e20",
   "metadata": {},
   "outputs": [
    {
     "name": "stdout",
     "output_type": "stream",
     "text": [
      "Размер матрицы test: (15952, 165923)\n"
     ]
    }
   ],
   "source": [
    "print(\"Размер матрицы test:\", tf_idf_test.shape)"
   ]
  },
  {
   "cell_type": "markdown",
   "id": "e6dfcb31",
   "metadata": {},
   "source": [
    "# Обучение разных моделей."
   ]
  },
  {
   "cell_type": "markdown",
   "id": "d359fb67",
   "metadata": {},
   "source": [
    "## Логическая регрессия"
   ]
  },
  {
   "cell_type": "code",
   "execution_count": 38,
   "id": "1ee368c6",
   "metadata": {},
   "outputs": [
    {
     "name": "stdout",
     "output_type": "stream",
     "text": [
      "Обучение прошло\n",
      "Предсказание прошло\n",
      "Значение F1 на валидационной выборке: 0.7438330170777988\n",
      "CPU times: user 15.8 s, sys: 27.4 s, total: 43.3 s\n",
      "Wall time: 43.3 s\n"
     ]
    },
    {
     "name": "stderr",
     "output_type": "stream",
     "text": [
      "/opt/conda/lib/python3.9/site-packages/sklearn/linear_model/_logistic.py:763: ConvergenceWarning: lbfgs failed to converge (status=1):\n",
      "STOP: TOTAL NO. of ITERATIONS REACHED LIMIT.\n",
      "\n",
      "Increase the number of iterations (max_iter) or scale the data as shown in:\n",
      "    https://scikit-learn.org/stable/modules/preprocessing.html\n",
      "Please also refer to the documentation for alternative solver options:\n",
      "    https://scikit-learn.org/stable/modules/linear_model.html#logistic-regression\n",
      "  n_iter_i = _check_optimize_result(\n"
     ]
    }
   ],
   "source": [
    "%%time\n",
    "model_lr = LogisticRegression(random_state=1902)\n",
    "model_lr.fit(tf_idf_train, target_train)\n",
    "print(\"Обучение прошло\")\n",
    "prediction_lr = model_lr.predict(tf_idf_valid)\n",
    "result_lr = f1_score(target_valid, prediction_lr)\n",
    "print(\"Предсказание прошло\")\n",
    "print(\"Значение F1 на валидационной выборке:\", result_lr)"
   ]
  },
  {
   "cell_type": "markdown",
   "id": "cca931dd",
   "metadata": {},
   "source": [
    "## Дерево решений"
   ]
  },
  {
   "cell_type": "code",
   "execution_count": 39,
   "id": "5eba5685",
   "metadata": {},
   "outputs": [
    {
     "name": "stderr",
     "output_type": "stream",
     "text": [
      "100%|██████████| 9/9 [00:26<00:00,  2.89s/it]"
     ]
    },
    {
     "name": "stdout",
     "output_type": "stream",
     "text": [
      "max_depth = 9  : \n",
      "Значение F1 на валидационной выборке: 0.5940425531914895\n",
      "CPU times: user 25.8 s, sys: 181 ms, total: 26 s\n",
      "Wall time: 26.1 s\n"
     ]
    },
    {
     "name": "stderr",
     "output_type": "stream",
     "text": [
      "\n"
     ]
    }
   ],
   "source": [
    "%%time\n",
    "#Подберем значения гиперпараметра и выберем наилучшие.\n",
    "result_max_dtc = 0\n",
    "depth_max = 0\n",
    "best_model_dtc = None\n",
    "for depth in tqdm(range(1, 10)):\n",
    "    model_dtc = DecisionTreeClassifier(random_state=1902, max_depth=depth)\n",
    "    model_dtc.fit(tf_idf_train, target_train)\n",
    "    predictions_dtc = model_dtc.predict(tf_idf_valid)\n",
    "    result = f1_score(target_valid, predictions_dtc)\n",
    "    if result > result_max_dtc:\n",
    "        result_max_dtc = result\n",
    "        depth_max = depth\n",
    "        best_model_dtc = model_dtc\n",
    "print('max_depth =', depth_max,' : ')\n",
    "print(\"Значение F1 на валидационной выборке:\", result_max_dtc)"
   ]
  },
  {
   "cell_type": "markdown",
   "id": "4a66f47c",
   "metadata": {},
   "source": [
    "## Случайный лес"
   ]
  },
  {
   "cell_type": "code",
   "execution_count": 40,
   "id": "1b72a44b",
   "metadata": {},
   "outputs": [
    {
     "name": "stderr",
     "output_type": "stream",
     "text": [
      "100%|██████████| 9/9 [00:18<00:00,  2.02s/it]"
     ]
    },
    {
     "name": "stdout",
     "output_type": "stream",
     "text": [
      "max_depth = 8 n_estimators =  1  : \n",
      "Значение F1 на валидации: 0.0966411314083677\n",
      "CPU times: user 16.5 s, sys: 1.44 s, total: 18 s\n",
      "Wall time: 18.2 s\n"
     ]
    },
    {
     "name": "stderr",
     "output_type": "stream",
     "text": [
      "\n"
     ]
    }
   ],
   "source": [
    "%%time\n",
    "result_max_rfc = 0\n",
    "best_model_rfc = None\n",
    "depth_max = 0\n",
    "n_estimators = 0\n",
    "for est in tqdm(range(1, 10)):\n",
    "    for depth in range(1, 10):\n",
    "        model_rfc = RandomForestClassifier(random_state=1902, n_estimators=est, max_depth=depth)\n",
    "        model_rfc.fit(tf_idf_train, target_train)\n",
    "        predictions_rfc = model_rfc.predict(tf_idf_valid)\n",
    "        result = f1_score(target_valid, predictions_rfc)\n",
    "        if result > result_max_rfc:\n",
    "            result_max_rfc = result\n",
    "            depth_max = depth\n",
    "            best_model_rfc = model_rfc\n",
    "            n_estimators = est\n",
    "            \n",
    "print('max_depth =', depth_max,  'n_estimators = ', n_estimators, ' : ')\n",
    "print(\"Значение F1 на валидации:\", result_max_rfc)"
   ]
  },
  {
   "cell_type": "markdown",
   "id": "a7164d52",
   "metadata": {},
   "source": [
    "### Сводим результаты обучения моделей в одну таблицу. Как видно из таблицы лучшее значение F1 имеет модель Дерево решений."
   ]
  },
  {
   "cell_type": "code",
   "execution_count": 41,
   "id": "c3048772",
   "metadata": {},
   "outputs": [],
   "source": [
    "tabledata = [[\"Модель LinearRegression\", np.round(result_lr, decimals = 3)],\n",
    "         [\"Модель DecisionTreeClassifier\", np.round(result_max_dtc, decimals = 3)],\n",
    "         [\"Модель RandomForestClassifier\", np.round(result_max_rfc, decimals = 3)]]\n",
    "tabledata\n",
    "table_result = pd.DataFrame(tabledata, columns=[\"Название модели\",\"Значение F1\"])\n"
   ]
  },
  {
   "cell_type": "code",
   "execution_count": 42,
   "id": "1c034b7a",
   "metadata": {
    "scrolled": true
   },
   "outputs": [
    {
     "data": {
      "text/html": [
       "<div>\n",
       "<style scoped>\n",
       "    .dataframe tbody tr th:only-of-type {\n",
       "        vertical-align: middle;\n",
       "    }\n",
       "\n",
       "    .dataframe tbody tr th {\n",
       "        vertical-align: top;\n",
       "    }\n",
       "\n",
       "    .dataframe thead th {\n",
       "        text-align: right;\n",
       "    }\n",
       "</style>\n",
       "<table border=\"1\" class=\"dataframe\">\n",
       "  <thead>\n",
       "    <tr style=\"text-align: right;\">\n",
       "      <th></th>\n",
       "      <th>Название модели</th>\n",
       "      <th>Значение F1</th>\n",
       "    </tr>\n",
       "  </thead>\n",
       "  <tbody>\n",
       "    <tr>\n",
       "      <th>0</th>\n",
       "      <td>Модель LinearRegression</td>\n",
       "      <td>0.744</td>\n",
       "    </tr>\n",
       "    <tr>\n",
       "      <th>1</th>\n",
       "      <td>Модель DecisionTreeClassifier</td>\n",
       "      <td>0.594</td>\n",
       "    </tr>\n",
       "    <tr>\n",
       "      <th>2</th>\n",
       "      <td>Модель RandomForestClassifier</td>\n",
       "      <td>0.097</td>\n",
       "    </tr>\n",
       "  </tbody>\n",
       "</table>\n",
       "</div>"
      ],
      "text/plain": [
       "                 Название модели  Значение F1\n",
       "0        Модель LinearRegression        0.744\n",
       "1  Модель DecisionTreeClassifier        0.594\n",
       "2  Модель RandomForestClassifier        0.097"
      ]
     },
     "execution_count": 42,
     "metadata": {},
     "output_type": "execute_result"
    }
   ],
   "source": [
    "table_result"
   ]
  },
  {
   "cell_type": "code",
   "execution_count": 43,
   "id": "27412a05",
   "metadata": {},
   "outputs": [],
   "source": [
    "# Автоматизируем определение лучшей модели\n",
    "def best_model(index):\n",
    "    if index == 0:\n",
    "        best_model = model_lr\n",
    "    elif index == 1:\n",
    "        best_model = model_dtc\n",
    "    elif index == 2:\n",
    "        best_model = model_rfc\n",
    "    else:\n",
    "        best_model = None\n",
    "    return best_model\n",
    "\n",
    "index = table_result['Значение F1'].idxmax()\n",
    "model = table_result['Название модели'][index]"
   ]
  },
  {
   "cell_type": "markdown",
   "id": "a153990a",
   "metadata": {},
   "source": [
    "### Проверяем наилучшею модель на тестовой выборке."
   ]
  },
  {
   "cell_type": "code",
   "execution_count": 44,
   "id": "ba3bcb86",
   "metadata": {},
   "outputs": [
    {
     "name": "stdout",
     "output_type": "stream",
     "text": [
      "Предсказание прошло\n"
     ]
    }
   ],
   "source": [
    "predictions = best_model(index).predict(tf_idf_test)\n",
    "result_max_test = f1_score(target_test, predictions)\n",
    "print(\"Предсказание прошло\")\n"
   ]
  },
  {
   "cell_type": "markdown",
   "id": "7d100516",
   "metadata": {},
   "source": [
    "### Результата на F1 лучшей модели составил."
   ]
  },
  {
   "cell_type": "code",
   "execution_count": 45,
   "id": "21a4f176",
   "metadata": {
    "scrolled": true
   },
   "outputs": [
    {
     "name": "stdout",
     "output_type": "stream",
     "text": [
      "Значение F1 на тестовой выборке модели Модель LinearRegression:  0.7338709677419355\n"
     ]
    }
   ],
   "source": [
    "print(f\"Значение F1 на тестовой выборке модели {model}: \", result_max_test)"
   ]
  },
  {
   "cell_type": "markdown",
   "id": "ecef7d7a",
   "metadata": {},
   "source": [
    "# Выводы"
   ]
  },
  {
   "cell_type": "markdown",
   "id": "e79d277a",
   "metadata": {},
   "source": [
    "- Проведена загрузка данных;\n",
    "- Проведена очистка текста;\n",
    "- Проведена токенизация текста;\n",
    "- Проведена лемматизация текста;\n",
    "- Удалены стоп-слова;\n",
    "- Проведена векторизация текстов коментариев;\n",
    "- Подготовлены тренировочный и тестовый набор данных в соотношении 4 -1;\n",
    "- Обучены три модели;\n",
    "- Подобраны гиперпараметры;\n",
    "- Проведена проверка кода на выбоке в 1500 текстов;\n",
    "- Проведена проверка кода на всем дата сете, общая продолжительность подготовки данных на полном объеме данных составила более 30 минут;\n",
    "- Представлена таблица со значениями Accuracy; "
   ]
  }
 ],
 "metadata": {
  "ExecuteTimeLog": [
   {
    "duration": 1509,
    "start_time": "2022-08-06T21:28:49.927Z"
   },
   {
    "duration": 2146,
    "start_time": "2022-08-06T21:28:51.439Z"
   },
   {
    "duration": 3,
    "start_time": "2022-08-06T21:28:53.586Z"
   },
   {
    "duration": 6,
    "start_time": "2022-08-06T21:28:53.591Z"
   },
   {
    "duration": 9,
    "start_time": "2022-08-06T21:28:53.599Z"
   },
   {
    "duration": 502140,
    "start_time": "2022-08-06T21:28:53.609Z"
   },
   {
    "duration": 15,
    "start_time": "2022-08-06T21:37:15.751Z"
   },
   {
    "duration": 111,
    "start_time": "2022-08-06T21:37:15.768Z"
   },
   {
    "duration": 57,
    "start_time": "2022-08-06T21:37:15.881Z"
   },
   {
    "duration": 3,
    "start_time": "2022-08-06T21:37:15.942Z"
   },
   {
    "duration": 38,
    "start_time": "2022-08-06T21:37:15.946Z"
   },
   {
    "duration": 17,
    "start_time": "2022-08-06T21:37:15.986Z"
   },
   {
    "duration": 4,
    "start_time": "2022-08-06T21:37:16.039Z"
   },
   {
    "duration": 11424,
    "start_time": "2022-08-06T21:37:16.044Z"
   },
   {
    "duration": 2998,
    "start_time": "2022-08-06T21:37:27.470Z"
   },
   {
    "duration": 3,
    "start_time": "2022-08-06T21:37:30.471Z"
   },
   {
    "duration": 64,
    "start_time": "2022-08-06T21:37:30.476Z"
   },
   {
    "duration": 45498,
    "start_time": "2022-08-06T21:37:30.541Z"
   },
   {
    "duration": 13,
    "start_time": "2022-08-06T21:38:16.041Z"
   },
   {
    "duration": 52386,
    "start_time": "2022-08-06T21:38:16.057Z"
   },
   {
    "duration": 44798,
    "start_time": "2022-08-06T21:39:08.444Z"
   },
   {
    "duration": 4,
    "start_time": "2022-08-06T21:39:53.244Z"
   },
   {
    "duration": 17,
    "start_time": "2022-08-06T21:39:53.250Z"
   },
   {
    "duration": 1337,
    "start_time": "2022-08-07T10:03:11.190Z"
   },
   {
    "duration": 4,
    "start_time": "2022-08-07T10:05:54.908Z"
   },
   {
    "duration": 151,
    "start_time": "2022-08-07T10:05:56.269Z"
   },
   {
    "duration": 9,
    "start_time": "2022-08-07T10:05:56.773Z"
   },
   {
    "duration": 2401,
    "start_time": "2022-08-07T10:06:14.694Z"
   },
   {
    "duration": 7,
    "start_time": "2022-08-07T10:06:19.021Z"
   },
   {
    "duration": 14,
    "start_time": "2022-08-07T10:06:22.565Z"
   },
   {
    "duration": 7,
    "start_time": "2022-08-07T10:06:23.789Z"
   },
   {
    "duration": 14,
    "start_time": "2022-08-07T10:06:26.669Z"
   },
   {
    "duration": 5,
    "start_time": "2022-08-07T10:15:26.508Z"
   },
   {
    "duration": 10,
    "start_time": "2022-08-07T10:17:34.001Z"
   },
   {
    "duration": 3,
    "start_time": "2022-08-07T10:17:57.527Z"
   },
   {
    "duration": 4,
    "start_time": "2022-08-07T10:18:03.650Z"
   },
   {
    "duration": 5,
    "start_time": "2022-08-07T10:18:22.481Z"
   },
   {
    "duration": 6,
    "start_time": "2022-08-07T10:18:36.551Z"
   },
   {
    "duration": 4,
    "start_time": "2022-08-07T10:18:37.713Z"
   },
   {
    "duration": 12,
    "start_time": "2022-08-07T10:18:46.973Z"
   },
   {
    "duration": 18,
    "start_time": "2022-08-07T10:23:37.328Z"
   },
   {
    "duration": 5,
    "start_time": "2022-08-07T10:24:05.893Z"
   },
   {
    "duration": 5,
    "start_time": "2022-08-07T10:24:30.640Z"
   },
   {
    "duration": 5,
    "start_time": "2022-08-07T12:18:04.355Z"
   },
   {
    "duration": 4,
    "start_time": "2022-08-07T12:18:42.423Z"
   },
   {
    "duration": 10,
    "start_time": "2022-08-07T12:18:51.955Z"
   },
   {
    "duration": 652,
    "start_time": "2022-08-07T12:20:27.906Z"
   },
   {
    "duration": 642,
    "start_time": "2022-08-07T12:20:56.082Z"
   },
   {
    "duration": 754,
    "start_time": "2022-08-07T12:21:17.218Z"
   },
   {
    "duration": 611,
    "start_time": "2022-08-07T12:21:20.290Z"
   },
   {
    "duration": 726,
    "start_time": "2022-08-07T12:21:23.121Z"
   },
   {
    "duration": 3,
    "start_time": "2022-08-07T12:22:44.722Z"
   },
   {
    "duration": 3,
    "start_time": "2022-08-07T12:29:03.139Z"
   },
   {
    "duration": 11,
    "start_time": "2022-08-07T12:29:30.562Z"
   },
   {
    "duration": 7,
    "start_time": "2022-08-07T12:30:23.921Z"
   },
   {
    "duration": 9,
    "start_time": "2022-08-07T12:31:03.176Z"
   },
   {
    "duration": 10,
    "start_time": "2022-08-07T12:36:54.011Z"
   },
   {
    "duration": 9,
    "start_time": "2022-08-07T12:37:28.657Z"
   },
   {
    "duration": 5,
    "start_time": "2022-08-07T12:38:42.544Z"
   },
   {
    "duration": 6,
    "start_time": "2022-08-07T12:41:35.342Z"
   },
   {
    "duration": 6,
    "start_time": "2022-08-07T12:42:03.775Z"
   },
   {
    "duration": 6,
    "start_time": "2022-08-07T12:42:17.199Z"
   },
   {
    "duration": 5,
    "start_time": "2022-08-07T12:43:49.758Z"
   },
   {
    "duration": 11,
    "start_time": "2022-08-07T12:44:16.927Z"
   },
   {
    "duration": 10,
    "start_time": "2022-08-07T12:44:50.062Z"
   },
   {
    "duration": 470,
    "start_time": "2022-08-07T12:47:12.050Z"
   },
   {
    "duration": 1187,
    "start_time": "2022-08-07T12:48:12.957Z"
   },
   {
    "duration": 103,
    "start_time": "2022-08-07T12:48:27.489Z"
   },
   {
    "duration": 4,
    "start_time": "2022-08-07T12:48:56.794Z"
   },
   {
    "duration": 83,
    "start_time": "2022-08-07T12:49:02.240Z"
   },
   {
    "duration": 83,
    "start_time": "2022-08-07T12:51:24.876Z"
   },
   {
    "duration": 90,
    "start_time": "2022-08-07T12:52:12.172Z"
   },
   {
    "duration": 83,
    "start_time": "2022-08-07T13:37:57.772Z"
   },
   {
    "duration": 7,
    "start_time": "2022-08-07T13:54:11.489Z"
   },
   {
    "duration": 5,
    "start_time": "2022-08-07T13:55:29.135Z"
   },
   {
    "duration": 5,
    "start_time": "2022-08-07T13:56:54.420Z"
   },
   {
    "duration": 14,
    "start_time": "2022-08-07T13:56:59.550Z"
   },
   {
    "duration": 15,
    "start_time": "2022-08-07T13:57:38.562Z"
   },
   {
    "duration": 13,
    "start_time": "2022-08-07T13:57:52.237Z"
   },
   {
    "duration": 4,
    "start_time": "2022-08-07T13:58:21.869Z"
   },
   {
    "duration": 183,
    "start_time": "2022-08-07T14:18:40.550Z"
   },
   {
    "duration": 10,
    "start_time": "2022-08-07T14:18:47.605Z"
   },
   {
    "duration": 10,
    "start_time": "2022-08-07T14:19:13.046Z"
   },
   {
    "duration": 17122,
    "start_time": "2022-08-07T14:35:21.457Z"
   },
   {
    "duration": 247,
    "start_time": "2022-08-07T14:38:50.100Z"
   },
   {
    "duration": 5746,
    "start_time": "2022-08-07T14:39:01.323Z"
   },
   {
    "duration": 130,
    "start_time": "2022-08-07T14:42:12.413Z"
   },
   {
    "duration": 127,
    "start_time": "2022-08-07T14:42:21.725Z"
   },
   {
    "duration": 11,
    "start_time": "2022-08-07T14:42:43.757Z"
   },
   {
    "duration": 131,
    "start_time": "2022-08-07T14:42:59.085Z"
   },
   {
    "duration": 120,
    "start_time": "2022-08-07T14:44:40.652Z"
   },
   {
    "duration": 115,
    "start_time": "2022-08-07T14:46:02.523Z"
   },
   {
    "duration": 101,
    "start_time": "2022-08-07T14:46:30.625Z"
   },
   {
    "duration": 864,
    "start_time": "2022-08-07T14:47:30.989Z"
   },
   {
    "duration": 87,
    "start_time": "2022-08-07T14:48:07.414Z"
   },
   {
    "duration": 84,
    "start_time": "2022-08-07T14:48:31.610Z"
   },
   {
    "duration": 20,
    "start_time": "2022-08-07T14:50:31.470Z"
   },
   {
    "duration": 7,
    "start_time": "2022-08-07T14:51:05.954Z"
   },
   {
    "duration": 11,
    "start_time": "2022-08-07T14:51:14.089Z"
   },
   {
    "duration": 5,
    "start_time": "2022-08-07T14:51:46.090Z"
   },
   {
    "duration": 8,
    "start_time": "2022-08-07T14:52:16.254Z"
   },
   {
    "duration": 9,
    "start_time": "2022-08-07T14:52:32.472Z"
   },
   {
    "duration": 7,
    "start_time": "2022-08-07T14:52:34.061Z"
   },
   {
    "duration": 7,
    "start_time": "2022-08-07T14:52:44.569Z"
   },
   {
    "duration": 7,
    "start_time": "2022-08-07T14:52:45.768Z"
   },
   {
    "duration": 8,
    "start_time": "2022-08-07T14:52:57.288Z"
   },
   {
    "duration": 8,
    "start_time": "2022-08-07T14:53:00.200Z"
   },
   {
    "duration": 7,
    "start_time": "2022-08-07T14:53:23.400Z"
   },
   {
    "duration": 9,
    "start_time": "2022-08-07T14:53:24.375Z"
   },
   {
    "duration": 10,
    "start_time": "2022-08-07T14:54:57.832Z"
   },
   {
    "duration": 7,
    "start_time": "2022-08-07T14:54:58.504Z"
   },
   {
    "duration": 12,
    "start_time": "2022-08-07T14:56:06.232Z"
   },
   {
    "duration": 6,
    "start_time": "2022-08-07T14:56:07.111Z"
   },
   {
    "duration": 158,
    "start_time": "2022-08-07T14:58:29.478Z"
   },
   {
    "duration": 122,
    "start_time": "2022-08-07T14:58:35.334Z"
   },
   {
    "duration": 133,
    "start_time": "2022-08-07T14:58:50.918Z"
   },
   {
    "duration": 92,
    "start_time": "2022-08-07T14:59:37.205Z"
   },
   {
    "duration": 940,
    "start_time": "2022-08-07T15:01:50.985Z"
   },
   {
    "duration": 3,
    "start_time": "2022-08-07T15:01:51.927Z"
   },
   {
    "duration": 9,
    "start_time": "2022-08-07T15:01:52.432Z"
   },
   {
    "duration": 13,
    "start_time": "2022-08-07T15:02:14.024Z"
   },
   {
    "duration": 18,
    "start_time": "2022-08-07T15:02:49.536Z"
   },
   {
    "duration": 1643,
    "start_time": "2022-08-07T15:06:22.464Z"
   },
   {
    "duration": 767,
    "start_time": "2022-08-07T15:06:27.835Z"
   },
   {
    "duration": 4,
    "start_time": "2022-08-07T15:06:29.455Z"
   },
   {
    "duration": 15,
    "start_time": "2022-08-07T15:06:32.232Z"
   },
   {
    "duration": 12,
    "start_time": "2022-08-07T15:06:40.176Z"
   },
   {
    "duration": 13,
    "start_time": "2022-08-07T15:06:44.872Z"
   },
   {
    "duration": 8,
    "start_time": "2022-08-07T15:06:49.935Z"
   },
   {
    "duration": 134,
    "start_time": "2022-08-07T15:06:55.396Z"
   },
   {
    "duration": 326,
    "start_time": "2022-08-07T15:08:27.711Z"
   },
   {
    "duration": 157,
    "start_time": "2022-08-07T15:10:24.399Z"
   },
   {
    "duration": 148,
    "start_time": "2022-08-07T15:10:39.199Z"
   },
   {
    "duration": 164,
    "start_time": "2022-08-07T15:10:45.582Z"
   },
   {
    "duration": 141,
    "start_time": "2022-08-07T15:12:06.450Z"
   },
   {
    "duration": 142,
    "start_time": "2022-08-07T15:12:14.150Z"
   },
   {
    "duration": 96,
    "start_time": "2022-08-07T15:13:42.827Z"
   },
   {
    "duration": 10,
    "start_time": "2022-08-07T15:15:03.466Z"
   },
   {
    "duration": 6,
    "start_time": "2022-08-07T15:15:23.556Z"
   },
   {
    "duration": 4,
    "start_time": "2022-08-07T15:16:28.680Z"
   },
   {
    "duration": 11,
    "start_time": "2022-08-07T15:16:29.623Z"
   },
   {
    "duration": 4,
    "start_time": "2022-08-07T15:17:46.533Z"
   },
   {
    "duration": 4,
    "start_time": "2022-08-07T15:17:54.566Z"
   },
   {
    "duration": 18,
    "start_time": "2022-08-07T15:17:55.670Z"
   },
   {
    "duration": 145,
    "start_time": "2022-08-07T15:18:23.877Z"
   },
   {
    "duration": 3,
    "start_time": "2022-08-07T15:19:01.621Z"
   },
   {
    "duration": 13,
    "start_time": "2022-08-07T15:19:03.493Z"
   },
   {
    "duration": 5,
    "start_time": "2022-08-07T15:19:16.252Z"
   },
   {
    "duration": 15,
    "start_time": "2022-08-07T15:19:16.856Z"
   },
   {
    "duration": 48,
    "start_time": "2022-08-07T15:21:16.274Z"
   },
   {
    "duration": 1727,
    "start_time": "2022-08-07T17:35:34.897Z"
   },
   {
    "duration": 3,
    "start_time": "2022-08-07T17:35:52.048Z"
   },
   {
    "duration": 131,
    "start_time": "2022-08-07T17:35:54.120Z"
   },
   {
    "duration": 11,
    "start_time": "2022-08-07T17:36:16.814Z"
   },
   {
    "duration": 2331,
    "start_time": "2022-08-07T17:36:29.081Z"
   },
   {
    "duration": 3,
    "start_time": "2022-08-07T17:36:32.336Z"
   },
   {
    "duration": 29,
    "start_time": "2022-08-07T17:36:34.367Z"
   },
   {
    "duration": 21,
    "start_time": "2022-08-07T17:36:38.440Z"
   },
   {
    "duration": 214,
    "start_time": "2022-08-07T17:36:44.800Z"
   },
   {
    "duration": 7,
    "start_time": "2022-08-07T17:36:48.567Z"
   },
   {
    "duration": 167,
    "start_time": "2022-08-07T17:36:52.716Z"
   },
   {
    "duration": 168,
    "start_time": "2022-08-07T17:37:10.772Z"
   },
   {
    "duration": 213946,
    "start_time": "2022-08-07T17:37:21.083Z"
   },
   {
    "duration": 237,
    "start_time": "2022-08-07T17:41:31.128Z"
   },
   {
    "duration": 87,
    "start_time": "2022-08-07T17:44:11.043Z"
   },
   {
    "duration": 211,
    "start_time": "2022-08-07T17:45:41.762Z"
   },
   {
    "duration": 22,
    "start_time": "2022-08-07T17:45:56.067Z"
   },
   {
    "duration": 3,
    "start_time": "2022-08-07T17:46:00.456Z"
   },
   {
    "duration": 28,
    "start_time": "2022-08-07T17:46:03.847Z"
   },
   {
    "duration": 3,
    "start_time": "2022-08-07T17:46:25.903Z"
   },
   {
    "duration": 5,
    "start_time": "2022-08-07T17:46:26.572Z"
   },
   {
    "duration": 298775,
    "start_time": "2022-08-07T17:46:35.399Z"
   },
   {
    "duration": 3,
    "start_time": "2022-08-07T18:10:05.517Z"
   },
   {
    "duration": 4,
    "start_time": "2022-08-07T18:11:47.122Z"
   },
   {
    "duration": 108,
    "start_time": "2022-08-07T18:11:55.576Z"
   },
   {
    "duration": 4,
    "start_time": "2022-08-07T18:12:46.409Z"
   },
   {
    "duration": 3,
    "start_time": "2022-08-07T18:12:56.152Z"
   },
   {
    "duration": 5,
    "start_time": "2022-08-07T18:12:57.033Z"
   },
   {
    "duration": 75,
    "start_time": "2022-08-07T18:12:59.912Z"
   },
   {
    "duration": 6,
    "start_time": "2022-08-07T18:14:09.832Z"
   },
   {
    "duration": 222915,
    "start_time": "2022-08-07T18:14:27.091Z"
   },
   {
    "duration": 4,
    "start_time": "2022-08-07T18:18:10.007Z"
   },
   {
    "duration": 135255,
    "start_time": "2022-08-07T18:20:32.813Z"
   },
   {
    "duration": 4,
    "start_time": "2022-08-07T18:23:00.208Z"
   },
   {
    "duration": 85,
    "start_time": "2022-08-07T18:23:03.408Z"
   },
   {
    "duration": 279,
    "start_time": "2022-08-07T18:24:05.426Z"
   },
   {
    "duration": 17431,
    "start_time": "2022-08-07T18:24:15.449Z"
   },
   {
    "duration": 5,
    "start_time": "2022-08-07T18:24:46.143Z"
   },
   {
    "duration": 760,
    "start_time": "2022-08-07T18:24:57.611Z"
   },
   {
    "duration": 3,
    "start_time": "2022-08-07T18:24:58.373Z"
   },
   {
    "duration": 11,
    "start_time": "2022-08-07T18:25:00.355Z"
   },
   {
    "duration": 9,
    "start_time": "2022-08-07T18:25:00.540Z"
   },
   {
    "duration": 8,
    "start_time": "2022-08-07T18:25:00.875Z"
   },
   {
    "duration": 7,
    "start_time": "2022-08-07T18:25:01.075Z"
   },
   {
    "duration": 130,
    "start_time": "2022-08-07T18:25:01.235Z"
   },
   {
    "duration": 87,
    "start_time": "2022-08-07T18:25:01.435Z"
   },
   {
    "duration": 564,
    "start_time": "2022-08-07T18:25:01.795Z"
   },
   {
    "duration": 5,
    "start_time": "2022-08-07T18:25:02.361Z"
   },
   {
    "duration": 17,
    "start_time": "2022-08-07T18:25:02.367Z"
   },
   {
    "duration": 5,
    "start_time": "2022-08-07T18:25:02.711Z"
   },
   {
    "duration": 3,
    "start_time": "2022-08-07T18:25:04.883Z"
   },
   {
    "duration": 11,
    "start_time": "2022-08-07T18:25:05.050Z"
   },
   {
    "duration": 3,
    "start_time": "2022-08-07T18:25:06.990Z"
   },
   {
    "duration": 3,
    "start_time": "2022-08-07T18:25:07.226Z"
   },
   {
    "duration": 6,
    "start_time": "2022-08-07T18:25:07.459Z"
   },
   {
    "duration": 3255,
    "start_time": "2022-08-07T18:25:11.739Z"
   },
   {
    "duration": 6,
    "start_time": "2022-08-07T18:25:24.804Z"
   },
   {
    "duration": 3261,
    "start_time": "2022-08-07T18:27:22.106Z"
   },
   {
    "duration": 8,
    "start_time": "2022-08-07T18:27:28.635Z"
   },
   {
    "duration": 202,
    "start_time": "2022-08-07T18:53:00.775Z"
   },
   {
    "duration": 8,
    "start_time": "2022-08-07T19:16:57.782Z"
   },
   {
    "duration": 4,
    "start_time": "2022-08-07T19:17:02.092Z"
   },
   {
    "duration": 3,
    "start_time": "2022-08-07T19:17:02.724Z"
   },
   {
    "duration": 3,
    "start_time": "2022-08-07T19:17:03.348Z"
   },
   {
    "duration": 3,
    "start_time": "2022-08-07T19:17:03.788Z"
   },
   {
    "duration": 4,
    "start_time": "2022-08-07T19:17:04.308Z"
   },
   {
    "duration": 3,
    "start_time": "2022-08-07T19:17:05.444Z"
   },
   {
    "duration": 74,
    "start_time": "2022-08-07T19:17:09.599Z"
   },
   {
    "duration": 13,
    "start_time": "2022-08-07T19:17:10.027Z"
   },
   {
    "duration": 9,
    "start_time": "2022-08-07T19:17:10.563Z"
   },
   {
    "duration": 4,
    "start_time": "2022-08-07T19:17:11.138Z"
   },
   {
    "duration": 4,
    "start_time": "2022-08-07T19:17:12.099Z"
   },
   {
    "duration": 5,
    "start_time": "2022-08-07T19:17:13.068Z"
   },
   {
    "duration": 999,
    "start_time": "2022-08-07T19:17:21.539Z"
   },
   {
    "duration": 121,
    "start_time": "2022-08-07T19:17:26.459Z"
   },
   {
    "duration": 152,
    "start_time": "2022-08-07T19:19:13.843Z"
   },
   {
    "duration": 6,
    "start_time": "2022-08-07T19:20:56.833Z"
   },
   {
    "duration": 4,
    "start_time": "2022-08-07T19:21:14.273Z"
   },
   {
    "duration": 73,
    "start_time": "2022-08-07T19:21:42.834Z"
   },
   {
    "duration": 11,
    "start_time": "2022-08-07T19:22:44.801Z"
   },
   {
    "duration": 11,
    "start_time": "2022-08-07T19:22:53.529Z"
   },
   {
    "duration": 10,
    "start_time": "2022-08-07T19:23:02.313Z"
   },
   {
    "duration": 11,
    "start_time": "2022-08-07T19:30:13.700Z"
   },
   {
    "duration": 12,
    "start_time": "2022-08-07T19:30:14.544Z"
   },
   {
    "duration": 2159,
    "start_time": "2022-08-07T19:30:22.558Z"
   },
   {
    "duration": 3,
    "start_time": "2022-08-07T19:30:31.766Z"
   },
   {
    "duration": 3,
    "start_time": "2022-08-07T19:30:33.662Z"
   },
   {
    "duration": 7,
    "start_time": "2022-08-07T19:30:44.782Z"
   },
   {
    "duration": 4,
    "start_time": "2022-08-07T19:30:46.653Z"
   },
   {
    "duration": 2,
    "start_time": "2022-08-07T19:30:47.158Z"
   },
   {
    "duration": 2,
    "start_time": "2022-08-07T19:30:47.918Z"
   },
   {
    "duration": 3,
    "start_time": "2022-08-07T19:30:48.229Z"
   },
   {
    "duration": 3,
    "start_time": "2022-08-07T19:30:48.606Z"
   },
   {
    "duration": 2,
    "start_time": "2022-08-07T19:30:49.558Z"
   },
   {
    "duration": 66,
    "start_time": "2022-08-07T19:30:50.325Z"
   },
   {
    "duration": 10,
    "start_time": "2022-08-07T19:30:52.958Z"
   },
   {
    "duration": 10,
    "start_time": "2022-08-07T19:30:53.862Z"
   },
   {
    "duration": 3,
    "start_time": "2022-08-07T19:30:54.693Z"
   },
   {
    "duration": 3,
    "start_time": "2022-08-07T19:30:55.414Z"
   },
   {
    "duration": 6,
    "start_time": "2022-08-07T19:30:56.094Z"
   },
   {
    "duration": 1637,
    "start_time": "2022-08-07T19:31:00.485Z"
   },
   {
    "duration": 132,
    "start_time": "2022-08-07T19:31:02.210Z"
   },
   {
    "duration": 4,
    "start_time": "2022-08-07T19:31:29.318Z"
   },
   {
    "duration": 5,
    "start_time": "2022-08-07T19:31:38.126Z"
   },
   {
    "duration": 168,
    "start_time": "2022-08-07T19:31:41.734Z"
   },
   {
    "duration": 9,
    "start_time": "2022-08-07T19:31:48.653Z"
   },
   {
    "duration": 10,
    "start_time": "2022-08-07T19:32:28.693Z"
   },
   {
    "duration": 7,
    "start_time": "2022-08-07T19:32:52.494Z"
   },
   {
    "duration": 66,
    "start_time": "2022-08-07T19:33:24.652Z"
   },
   {
    "duration": 872,
    "start_time": "2022-08-07T19:33:55.020Z"
   },
   {
    "duration": 13,
    "start_time": "2022-08-07T19:35:15.684Z"
   },
   {
    "duration": 12,
    "start_time": "2022-08-07T19:35:39.296Z"
   },
   {
    "duration": 4,
    "start_time": "2022-08-07T19:35:48.195Z"
   },
   {
    "duration": 7,
    "start_time": "2022-08-07T19:35:49.352Z"
   },
   {
    "duration": 4,
    "start_time": "2022-08-07T19:36:04.635Z"
   },
   {
    "duration": 7,
    "start_time": "2022-08-07T19:36:05.807Z"
   },
   {
    "duration": 48,
    "start_time": "2022-08-07T19:36:49.172Z"
   },
   {
    "duration": 1574,
    "start_time": "2022-08-07T19:39:17.775Z"
   },
   {
    "duration": 796,
    "start_time": "2022-08-07T19:39:19.351Z"
   },
   {
    "duration": 3,
    "start_time": "2022-08-07T19:39:20.149Z"
   },
   {
    "duration": 22,
    "start_time": "2022-08-07T19:39:20.153Z"
   },
   {
    "duration": 23,
    "start_time": "2022-08-07T19:39:20.177Z"
   },
   {
    "duration": 9,
    "start_time": "2022-08-07T19:39:20.202Z"
   },
   {
    "duration": 12,
    "start_time": "2022-08-07T19:39:20.213Z"
   },
   {
    "duration": 175,
    "start_time": "2022-08-07T19:39:20.227Z"
   },
   {
    "duration": 122,
    "start_time": "2022-08-07T19:39:20.405Z"
   },
   {
    "duration": 613,
    "start_time": "2022-08-07T19:39:20.529Z"
   },
   {
    "duration": 5,
    "start_time": "2022-08-07T19:39:21.143Z"
   },
   {
    "duration": 10,
    "start_time": "2022-08-07T19:39:21.150Z"
   },
   {
    "duration": 5,
    "start_time": "2022-08-07T19:39:21.162Z"
   },
   {
    "duration": 3,
    "start_time": "2022-08-07T19:39:21.171Z"
   },
   {
    "duration": 45,
    "start_time": "2022-08-07T19:39:21.176Z"
   },
   {
    "duration": 2,
    "start_time": "2022-08-07T19:39:21.223Z"
   },
   {
    "duration": 5,
    "start_time": "2022-08-07T19:39:21.227Z"
   },
   {
    "duration": 6,
    "start_time": "2022-08-07T19:39:21.233Z"
   },
   {
    "duration": 4648,
    "start_time": "2022-08-07T19:39:21.241Z"
   },
   {
    "duration": 7,
    "start_time": "2022-08-07T19:39:25.890Z"
   },
   {
    "duration": 17,
    "start_time": "2022-08-07T19:39:25.898Z"
   },
   {
    "duration": 6,
    "start_time": "2022-08-07T19:39:25.916Z"
   },
   {
    "duration": 4,
    "start_time": "2022-08-07T19:39:25.923Z"
   },
   {
    "duration": 6,
    "start_time": "2022-08-07T19:39:25.929Z"
   },
   {
    "duration": 6,
    "start_time": "2022-08-07T19:39:25.936Z"
   },
   {
    "duration": 7,
    "start_time": "2022-08-07T19:39:25.943Z"
   },
   {
    "duration": 4,
    "start_time": "2022-08-07T19:39:25.951Z"
   },
   {
    "duration": 89,
    "start_time": "2022-08-07T19:39:25.956Z"
   },
   {
    "duration": 8,
    "start_time": "2022-08-07T19:39:26.047Z"
   },
   {
    "duration": 13,
    "start_time": "2022-08-07T19:39:26.056Z"
   },
   {
    "duration": 4,
    "start_time": "2022-08-07T19:39:26.071Z"
   },
   {
    "duration": 6,
    "start_time": "2022-08-07T19:39:26.077Z"
   },
   {
    "duration": 5,
    "start_time": "2022-08-07T19:39:26.085Z"
   },
   {
    "duration": 1420,
    "start_time": "2022-08-07T19:39:26.092Z"
   },
   {
    "duration": 8,
    "start_time": "2022-08-07T19:39:27.514Z"
   },
   {
    "duration": 191,
    "start_time": "2022-08-07T19:39:27.523Z"
   },
   {
    "duration": 10,
    "start_time": "2022-08-07T19:39:27.715Z"
   },
   {
    "duration": 803,
    "start_time": "2022-08-07T19:39:27.727Z"
   },
   {
    "duration": 12,
    "start_time": "2022-08-07T19:39:28.532Z"
   },
   {
    "duration": 5,
    "start_time": "2022-08-07T19:39:28.546Z"
   },
   {
    "duration": 198,
    "start_time": "2022-08-07T19:39:28.554Z"
   },
   {
    "duration": 1571,
    "start_time": "2022-08-07T19:42:40.714Z"
   },
   {
    "duration": 834,
    "start_time": "2022-08-07T19:42:42.287Z"
   },
   {
    "duration": 2,
    "start_time": "2022-08-07T19:42:43.123Z"
   },
   {
    "duration": 53,
    "start_time": "2022-08-07T19:42:43.127Z"
   },
   {
    "duration": 15,
    "start_time": "2022-08-07T19:42:43.182Z"
   },
   {
    "duration": 224,
    "start_time": "2022-08-07T19:42:43.198Z"
   },
   {
    "duration": 7,
    "start_time": "2022-08-07T19:42:43.424Z"
   },
   {
    "duration": 159,
    "start_time": "2022-08-07T19:42:43.433Z"
   },
   {
    "duration": 181,
    "start_time": "2022-08-07T19:42:43.594Z"
   },
   {
    "duration": 229035,
    "start_time": "2022-08-07T19:42:43.777Z"
   },
   {
    "duration": 98,
    "start_time": "2022-08-07T19:46:32.814Z"
   },
   {
    "duration": 250,
    "start_time": "2022-08-07T19:46:32.914Z"
   },
   {
    "duration": 24,
    "start_time": "2022-08-07T19:46:33.165Z"
   },
   {
    "duration": 6,
    "start_time": "2022-08-07T19:46:33.192Z"
   },
   {
    "duration": 35,
    "start_time": "2022-08-07T19:46:33.199Z"
   },
   {
    "duration": 3,
    "start_time": "2022-08-07T19:46:33.235Z"
   },
   {
    "duration": 6,
    "start_time": "2022-08-07T19:46:33.239Z"
   },
   {
    "duration": 7,
    "start_time": "2022-08-07T19:46:33.246Z"
   },
   {
    "duration": 889799,
    "start_time": "2022-08-07T19:46:33.254Z"
   },
   {
    "duration": 6,
    "start_time": "2022-08-07T20:01:23.054Z"
   },
   {
    "duration": 57,
    "start_time": "2022-08-07T20:01:23.062Z"
   },
   {
    "duration": 3,
    "start_time": "2022-08-07T20:01:23.121Z"
   },
   {
    "duration": 7,
    "start_time": "2022-08-07T20:01:23.125Z"
   },
   {
    "duration": 7,
    "start_time": "2022-08-07T20:01:23.133Z"
   },
   {
    "duration": 6,
    "start_time": "2022-08-07T20:01:23.141Z"
   },
   {
    "duration": 4,
    "start_time": "2022-08-07T20:01:23.148Z"
   },
   {
    "duration": 5,
    "start_time": "2022-08-07T20:01:23.154Z"
   },
   {
    "duration": 5523,
    "start_time": "2022-08-07T20:01:23.161Z"
   },
   {
    "duration": 646,
    "start_time": "2022-08-07T20:01:28.686Z"
   },
   {
    "duration": 693,
    "start_time": "2022-08-07T20:01:29.333Z"
   },
   {
    "duration": 4,
    "start_time": "2022-08-07T20:01:30.028Z"
   },
   {
    "duration": 8,
    "start_time": "2022-08-07T20:01:30.033Z"
   },
   {
    "duration": 8,
    "start_time": "2022-08-07T20:01:30.042Z"
   },
   {
    "duration": 38860,
    "start_time": "2022-08-07T20:01:30.052Z"
   },
   {
    "duration": 101,
    "start_time": "2022-08-07T20:02:08.913Z"
   },
   {
    "duration": 24898,
    "start_time": "2022-08-07T20:02:09.016Z"
   },
   {
    "duration": 621,
    "start_time": "2022-08-07T20:02:33.916Z"
   },
   {
    "duration": 16697,
    "start_time": "2022-08-07T20:02:34.539Z"
   },
   {
    "duration": 151,
    "start_time": "2022-08-07T20:02:51.238Z"
   },
   {
    "duration": 3,
    "start_time": "2022-08-07T20:02:51.390Z"
   },
   {
    "duration": 16,
    "start_time": "2022-08-07T20:02:51.396Z"
   },
   {
    "duration": 1934,
    "start_time": "2022-08-08T03:45:52.701Z"
   },
   {
    "duration": 2062,
    "start_time": "2022-08-08T03:45:54.637Z"
   },
   {
    "duration": 264850,
    "start_time": "2022-08-08T03:46:15.507Z"
   },
   {
    "duration": 145,
    "start_time": "2022-08-08T03:53:34.313Z"
   },
   {
    "duration": 1234,
    "start_time": "2022-08-08T03:53:53.850Z"
   },
   {
    "duration": 1285,
    "start_time": "2022-08-08T03:57:11.878Z"
   },
   {
    "duration": 7,
    "start_time": "2022-08-08T03:58:05.704Z"
   },
   {
    "duration": 7,
    "start_time": "2022-08-08T03:58:39.682Z"
   },
   {
    "duration": 10,
    "start_time": "2022-08-08T03:59:26.113Z"
   },
   {
    "duration": 3,
    "start_time": "2022-08-08T03:59:31.058Z"
   },
   {
    "duration": 3,
    "start_time": "2022-08-08T03:59:31.226Z"
   },
   {
    "duration": 25,
    "start_time": "2022-08-08T03:59:33.169Z"
   },
   {
    "duration": 2009,
    "start_time": "2022-08-08T17:03:00.487Z"
   },
   {
    "duration": 2227,
    "start_time": "2022-08-08T17:03:03.824Z"
   },
   {
    "duration": 2,
    "start_time": "2022-08-08T17:03:10.716Z"
   },
   {
    "duration": 13,
    "start_time": "2022-08-08T17:03:13.664Z"
   },
   {
    "duration": 11,
    "start_time": "2022-08-08T17:03:14.621Z"
   },
   {
    "duration": 8,
    "start_time": "2022-08-08T17:03:19.540Z"
   },
   {
    "duration": 6,
    "start_time": "2022-08-08T17:03:20.368Z"
   },
   {
    "duration": 137,
    "start_time": "2022-08-08T17:03:24.096Z"
   },
   {
    "duration": 83,
    "start_time": "2022-08-08T17:03:27.272Z"
   },
   {
    "duration": 562,
    "start_time": "2022-08-08T17:03:30.096Z"
   },
   {
    "duration": 5,
    "start_time": "2022-08-08T17:03:33.184Z"
   },
   {
    "duration": 6,
    "start_time": "2022-08-08T17:03:35.656Z"
   },
   {
    "duration": 4,
    "start_time": "2022-08-08T17:03:37.048Z"
   },
   {
    "duration": 3,
    "start_time": "2022-08-08T17:03:37.660Z"
   },
   {
    "duration": 10,
    "start_time": "2022-08-08T17:03:38.300Z"
   },
   {
    "duration": 2,
    "start_time": "2022-08-08T17:03:44.228Z"
   },
   {
    "duration": 3,
    "start_time": "2022-08-08T17:03:44.488Z"
   },
   {
    "duration": 3,
    "start_time": "2022-08-08T17:05:17.051Z"
   },
   {
    "duration": 12,
    "start_time": "2022-08-08T17:05:20.530Z"
   },
   {
    "duration": 5,
    "start_time": "2022-08-08T17:05:59.170Z"
   },
   {
    "duration": 11,
    "start_time": "2022-08-08T17:06:20.626Z"
   },
   {
    "duration": 4,
    "start_time": "2022-08-08T17:07:06.337Z"
   },
   {
    "duration": 4,
    "start_time": "2022-08-08T17:07:27.537Z"
   },
   {
    "duration": 4,
    "start_time": "2022-08-08T17:07:46.454Z"
   },
   {
    "duration": 3,
    "start_time": "2022-08-08T17:08:02.177Z"
   },
   {
    "duration": 10,
    "start_time": "2022-08-08T17:08:37.937Z"
   },
   {
    "duration": 11,
    "start_time": "2022-08-08T17:08:45.233Z"
   },
   {
    "duration": 3,
    "start_time": "2022-08-08T17:09:12.945Z"
   },
   {
    "duration": 3,
    "start_time": "2022-08-08T17:09:40.874Z"
   },
   {
    "duration": 4,
    "start_time": "2022-08-08T17:09:45.894Z"
   },
   {
    "duration": 4,
    "start_time": "2022-08-08T17:09:57.009Z"
   },
   {
    "duration": 11,
    "start_time": "2022-08-08T17:10:00.299Z"
   },
   {
    "duration": 3,
    "start_time": "2022-08-08T17:10:06.541Z"
   },
   {
    "duration": 4,
    "start_time": "2022-08-08T17:10:16.088Z"
   },
   {
    "duration": 176,
    "start_time": "2022-08-08T17:14:34.719Z"
   },
   {
    "duration": 716,
    "start_time": "2022-08-08T17:15:16.860Z"
   },
   {
    "duration": 1268,
    "start_time": "2022-08-08T17:15:43.632Z"
   },
   {
    "duration": 4,
    "start_time": "2022-08-08T17:15:51.491Z"
   },
   {
    "duration": 4,
    "start_time": "2022-08-08T17:16:53.195Z"
   },
   {
    "duration": 3,
    "start_time": "2022-08-08T17:17:26.638Z"
   },
   {
    "duration": 10,
    "start_time": "2022-08-08T17:18:28.158Z"
   },
   {
    "duration": 4,
    "start_time": "2022-08-08T17:18:58.911Z"
   },
   {
    "duration": 54,
    "start_time": "2022-08-08T17:46:27.186Z"
   },
   {
    "duration": 46,
    "start_time": "2022-08-08T18:03:04.346Z"
   },
   {
    "duration": 1546,
    "start_time": "2022-08-08T18:03:30.336Z"
   },
   {
    "duration": 122,
    "start_time": "2022-08-08T18:03:31.883Z"
   },
   {
    "duration": 812,
    "start_time": "2022-08-08T18:03:32.006Z"
   },
   {
    "duration": 3,
    "start_time": "2022-08-08T18:03:32.820Z"
   },
   {
    "duration": 14,
    "start_time": "2022-08-08T18:03:32.825Z"
   },
   {
    "duration": 11,
    "start_time": "2022-08-08T18:03:32.840Z"
   },
   {
    "duration": 7,
    "start_time": "2022-08-08T18:03:32.852Z"
   },
   {
    "duration": 10,
    "start_time": "2022-08-08T18:03:32.860Z"
   },
   {
    "duration": 156,
    "start_time": "2022-08-08T18:03:32.872Z"
   },
   {
    "duration": 95,
    "start_time": "2022-08-08T18:03:33.030Z"
   },
   {
    "duration": 545,
    "start_time": "2022-08-08T18:03:33.127Z"
   },
   {
    "duration": 4,
    "start_time": "2022-08-08T18:03:33.674Z"
   },
   {
    "duration": 6,
    "start_time": "2022-08-08T18:03:33.680Z"
   },
   {
    "duration": 22,
    "start_time": "2022-08-08T18:03:33.689Z"
   },
   {
    "duration": 3,
    "start_time": "2022-08-08T18:03:33.713Z"
   },
   {
    "duration": 11,
    "start_time": "2022-08-08T18:03:33.717Z"
   },
   {
    "duration": 3,
    "start_time": "2022-08-08T18:03:33.729Z"
   },
   {
    "duration": 4,
    "start_time": "2022-08-08T18:03:33.733Z"
   },
   {
    "duration": 5,
    "start_time": "2022-08-08T18:03:33.738Z"
   },
   {
    "duration": 11378,
    "start_time": "2022-08-08T18:03:33.744Z"
   },
   {
    "duration": 9,
    "start_time": "2022-08-08T18:03:45.123Z"
   },
   {
    "duration": 9,
    "start_time": "2022-08-08T18:03:45.133Z"
   },
   {
    "duration": 3,
    "start_time": "2022-08-08T18:03:45.144Z"
   },
   {
    "duration": 4,
    "start_time": "2022-08-08T18:03:45.149Z"
   },
   {
    "duration": 4,
    "start_time": "2022-08-08T18:03:45.156Z"
   },
   {
    "duration": 4,
    "start_time": "2022-08-08T18:03:45.162Z"
   },
   {
    "duration": 4,
    "start_time": "2022-08-08T18:03:45.167Z"
   },
   {
    "duration": 3,
    "start_time": "2022-08-08T18:03:45.173Z"
   },
   {
    "duration": 166,
    "start_time": "2022-08-08T18:03:45.178Z"
   },
   {
    "duration": 0,
    "start_time": "2022-08-08T18:03:45.346Z"
   },
   {
    "duration": 0,
    "start_time": "2022-08-08T18:03:45.347Z"
   },
   {
    "duration": 0,
    "start_time": "2022-08-08T18:03:45.348Z"
   },
   {
    "duration": 0,
    "start_time": "2022-08-08T18:03:45.349Z"
   },
   {
    "duration": 0,
    "start_time": "2022-08-08T18:03:45.351Z"
   },
   {
    "duration": 0,
    "start_time": "2022-08-08T18:03:45.352Z"
   },
   {
    "duration": 0,
    "start_time": "2022-08-08T18:03:45.353Z"
   },
   {
    "duration": 0,
    "start_time": "2022-08-08T18:03:45.354Z"
   },
   {
    "duration": 0,
    "start_time": "2022-08-08T18:03:45.355Z"
   },
   {
    "duration": 1,
    "start_time": "2022-08-08T18:03:45.355Z"
   },
   {
    "duration": 0,
    "start_time": "2022-08-08T18:03:45.356Z"
   },
   {
    "duration": 0,
    "start_time": "2022-08-08T18:03:45.357Z"
   },
   {
    "duration": 0,
    "start_time": "2022-08-08T18:03:45.358Z"
   },
   {
    "duration": 0,
    "start_time": "2022-08-08T18:03:45.359Z"
   },
   {
    "duration": 5,
    "start_time": "2022-08-08T18:05:42.244Z"
   },
   {
    "duration": 1627,
    "start_time": "2022-08-08T18:06:08.631Z"
   },
   {
    "duration": 156,
    "start_time": "2022-08-08T18:06:10.260Z"
   },
   {
    "duration": 807,
    "start_time": "2022-08-08T18:06:10.418Z"
   },
   {
    "duration": 4,
    "start_time": "2022-08-08T18:06:11.227Z"
   },
   {
    "duration": 31,
    "start_time": "2022-08-08T18:06:11.233Z"
   },
   {
    "duration": 13,
    "start_time": "2022-08-08T18:06:11.266Z"
   },
   {
    "duration": 13,
    "start_time": "2022-08-08T18:06:11.281Z"
   },
   {
    "duration": 15,
    "start_time": "2022-08-08T18:06:11.296Z"
   },
   {
    "duration": 144,
    "start_time": "2022-08-08T18:06:11.313Z"
   },
   {
    "duration": 88,
    "start_time": "2022-08-08T18:06:11.459Z"
   },
   {
    "duration": 592,
    "start_time": "2022-08-08T18:06:11.548Z"
   },
   {
    "duration": 6,
    "start_time": "2022-08-08T18:06:12.142Z"
   },
   {
    "duration": 12,
    "start_time": "2022-08-08T18:06:12.150Z"
   },
   {
    "duration": 5,
    "start_time": "2022-08-08T18:06:12.165Z"
   },
   {
    "duration": 5,
    "start_time": "2022-08-08T18:06:12.172Z"
   },
   {
    "duration": 34,
    "start_time": "2022-08-08T18:06:12.179Z"
   },
   {
    "duration": 3,
    "start_time": "2022-08-08T18:06:12.215Z"
   },
   {
    "duration": 5,
    "start_time": "2022-08-08T18:06:12.220Z"
   },
   {
    "duration": 6,
    "start_time": "2022-08-08T18:06:12.227Z"
   },
   {
    "duration": 63870,
    "start_time": "2022-08-08T18:06:12.235Z"
   },
   {
    "duration": 10,
    "start_time": "2022-08-08T18:07:16.107Z"
   },
   {
    "duration": 6,
    "start_time": "2022-08-08T18:07:16.119Z"
   },
   {
    "duration": 9,
    "start_time": "2022-08-08T18:07:16.126Z"
   },
   {
    "duration": 13,
    "start_time": "2022-08-08T18:07:16.136Z"
   },
   {
    "duration": 10,
    "start_time": "2022-08-08T18:07:16.151Z"
   },
   {
    "duration": 12,
    "start_time": "2022-08-08T18:07:16.163Z"
   },
   {
    "duration": 15,
    "start_time": "2022-08-08T18:07:16.176Z"
   },
   {
    "duration": 17,
    "start_time": "2022-08-08T18:07:16.193Z"
   },
   {
    "duration": 30,
    "start_time": "2022-08-08T18:07:16.211Z"
   },
   {
    "duration": 0,
    "start_time": "2022-08-08T18:07:16.243Z"
   },
   {
    "duration": 0,
    "start_time": "2022-08-08T18:07:16.244Z"
   },
   {
    "duration": 0,
    "start_time": "2022-08-08T18:07:16.245Z"
   },
   {
    "duration": 0,
    "start_time": "2022-08-08T18:07:16.246Z"
   },
   {
    "duration": 0,
    "start_time": "2022-08-08T18:07:16.247Z"
   },
   {
    "duration": 0,
    "start_time": "2022-08-08T18:07:16.248Z"
   },
   {
    "duration": 0,
    "start_time": "2022-08-08T18:07:16.250Z"
   },
   {
    "duration": 0,
    "start_time": "2022-08-08T18:07:16.251Z"
   },
   {
    "duration": 0,
    "start_time": "2022-08-08T18:07:16.252Z"
   },
   {
    "duration": 0,
    "start_time": "2022-08-08T18:07:16.253Z"
   },
   {
    "duration": 0,
    "start_time": "2022-08-08T18:07:16.254Z"
   },
   {
    "duration": 0,
    "start_time": "2022-08-08T18:07:16.256Z"
   },
   {
    "duration": 0,
    "start_time": "2022-08-08T18:07:16.256Z"
   },
   {
    "duration": 0,
    "start_time": "2022-08-08T18:07:16.257Z"
   },
   {
    "duration": 4,
    "start_time": "2022-08-08T18:12:13.609Z"
   },
   {
    "duration": 13427,
    "start_time": "2022-08-08T18:12:21.553Z"
   },
   {
    "duration": 7,
    "start_time": "2022-08-08T18:12:37.345Z"
   },
   {
    "duration": 5,
    "start_time": "2022-08-08T18:12:37.960Z"
   },
   {
    "duration": 3,
    "start_time": "2022-08-08T18:12:38.747Z"
   },
   {
    "duration": 3,
    "start_time": "2022-08-08T18:12:38.976Z"
   },
   {
    "duration": 2,
    "start_time": "2022-08-08T18:12:39.248Z"
   },
   {
    "duration": 3,
    "start_time": "2022-08-08T18:12:39.440Z"
   },
   {
    "duration": 3,
    "start_time": "2022-08-08T18:12:39.632Z"
   },
   {
    "duration": 3,
    "start_time": "2022-08-08T18:12:40.044Z"
   },
   {
    "duration": 67,
    "start_time": "2022-08-08T18:12:40.288Z"
   },
   {
    "duration": 9,
    "start_time": "2022-08-08T18:12:40.512Z"
   },
   {
    "duration": 9,
    "start_time": "2022-08-08T18:12:41.173Z"
   },
   {
    "duration": 2,
    "start_time": "2022-08-08T18:12:41.360Z"
   },
   {
    "duration": 3,
    "start_time": "2022-08-08T18:12:41.552Z"
   },
   {
    "duration": 3,
    "start_time": "2022-08-08T18:12:41.744Z"
   },
   {
    "duration": 54,
    "start_time": "2022-08-08T18:12:42.524Z"
   },
   {
    "duration": 7,
    "start_time": "2022-08-08T18:12:42.723Z"
   },
   {
    "duration": 163,
    "start_time": "2022-08-08T18:12:43.952Z"
   },
   {
    "duration": 49,
    "start_time": "2022-08-08T18:12:44.532Z"
   },
   {
    "duration": 5,
    "start_time": "2022-08-08T18:12:44.944Z"
   },
   {
    "duration": 5,
    "start_time": "2022-08-08T18:12:52.016Z"
   },
   {
    "duration": 734,
    "start_time": "2022-08-08T18:12:54.364Z"
   },
   {
    "duration": 6,
    "start_time": "2022-08-08T18:12:58.536Z"
   },
   {
    "duration": 4,
    "start_time": "2022-08-08T18:13:02.504Z"
   },
   {
    "duration": 7,
    "start_time": "2022-08-08T18:13:02.816Z"
   },
   {
    "duration": 6,
    "start_time": "2022-08-08T18:18:25.985Z"
   },
   {
    "duration": 167,
    "start_time": "2022-08-08T18:18:30.990Z"
   },
   {
    "duration": 1598,
    "start_time": "2022-08-08T18:18:46.497Z"
   },
   {
    "duration": 206,
    "start_time": "2022-08-08T18:18:48.097Z"
   },
   {
    "duration": 782,
    "start_time": "2022-08-08T18:18:48.304Z"
   },
   {
    "duration": 3,
    "start_time": "2022-08-08T18:18:49.088Z"
   },
   {
    "duration": 20,
    "start_time": "2022-08-08T18:18:49.093Z"
   },
   {
    "duration": 12,
    "start_time": "2022-08-08T18:18:49.115Z"
   },
   {
    "duration": 7,
    "start_time": "2022-08-08T18:18:49.129Z"
   },
   {
    "duration": 8,
    "start_time": "2022-08-08T18:18:49.138Z"
   },
   {
    "duration": 180,
    "start_time": "2022-08-08T18:18:49.148Z"
   },
   {
    "duration": 91,
    "start_time": "2022-08-08T18:18:49.331Z"
   },
   {
    "duration": 619,
    "start_time": "2022-08-08T18:18:49.423Z"
   },
   {
    "duration": 5,
    "start_time": "2022-08-08T18:18:50.044Z"
   },
   {
    "duration": 12,
    "start_time": "2022-08-08T18:18:50.051Z"
   },
   {
    "duration": 6,
    "start_time": "2022-08-08T18:18:50.065Z"
   },
   {
    "duration": 5,
    "start_time": "2022-08-08T18:18:50.073Z"
   },
   {
    "duration": 33,
    "start_time": "2022-08-08T18:18:50.079Z"
   },
   {
    "duration": 2,
    "start_time": "2022-08-08T18:18:50.113Z"
   },
   {
    "duration": 5,
    "start_time": "2022-08-08T18:18:50.117Z"
   },
   {
    "duration": 5,
    "start_time": "2022-08-08T18:18:50.124Z"
   },
   {
    "duration": 14719,
    "start_time": "2022-08-08T18:18:50.130Z"
   },
   {
    "duration": 7,
    "start_time": "2022-08-08T18:19:04.851Z"
   },
   {
    "duration": 12,
    "start_time": "2022-08-08T18:19:04.859Z"
   },
   {
    "duration": 3,
    "start_time": "2022-08-08T18:19:04.872Z"
   },
   {
    "duration": 6,
    "start_time": "2022-08-08T18:19:04.877Z"
   },
   {
    "duration": 5,
    "start_time": "2022-08-08T18:19:04.884Z"
   },
   {
    "duration": 6,
    "start_time": "2022-08-08T18:19:04.890Z"
   },
   {
    "duration": 16,
    "start_time": "2022-08-08T18:19:04.897Z"
   },
   {
    "duration": 6,
    "start_time": "2022-08-08T18:19:04.916Z"
   },
   {
    "duration": 63,
    "start_time": "2022-08-08T18:19:04.923Z"
   },
   {
    "duration": 8,
    "start_time": "2022-08-08T18:19:04.988Z"
   },
   {
    "duration": 18,
    "start_time": "2022-08-08T18:19:04.998Z"
   },
   {
    "duration": 6,
    "start_time": "2022-08-08T18:19:05.018Z"
   },
   {
    "duration": 6,
    "start_time": "2022-08-08T18:19:05.025Z"
   },
   {
    "duration": 5,
    "start_time": "2022-08-08T18:19:05.033Z"
   },
   {
    "duration": 42,
    "start_time": "2022-08-08T18:19:05.040Z"
   },
   {
    "duration": 27,
    "start_time": "2022-08-08T18:19:05.084Z"
   },
   {
    "duration": 171,
    "start_time": "2022-08-08T18:19:05.113Z"
   },
   {
    "duration": 151,
    "start_time": "2022-08-08T18:19:05.286Z"
   },
   {
    "duration": 0,
    "start_time": "2022-08-08T18:19:05.439Z"
   },
   {
    "duration": 0,
    "start_time": "2022-08-08T18:19:05.440Z"
   },
   {
    "duration": 0,
    "start_time": "2022-08-08T18:19:05.442Z"
   },
   {
    "duration": 0,
    "start_time": "2022-08-08T18:19:05.443Z"
   },
   {
    "duration": 1477,
    "start_time": "2022-08-08T18:19:20.665Z"
   },
   {
    "duration": 207,
    "start_time": "2022-08-08T18:19:22.144Z"
   },
   {
    "duration": 875,
    "start_time": "2022-08-08T18:19:22.354Z"
   },
   {
    "duration": 3,
    "start_time": "2022-08-08T18:19:23.231Z"
   },
   {
    "duration": 14,
    "start_time": "2022-08-08T18:19:23.235Z"
   },
   {
    "duration": 12,
    "start_time": "2022-08-08T18:19:23.250Z"
   },
   {
    "duration": 8,
    "start_time": "2022-08-08T18:19:23.263Z"
   },
   {
    "duration": 8,
    "start_time": "2022-08-08T18:19:23.272Z"
   },
   {
    "duration": 159,
    "start_time": "2022-08-08T18:19:23.282Z"
   },
   {
    "duration": 102,
    "start_time": "2022-08-08T18:19:23.443Z"
   },
   {
    "duration": 542,
    "start_time": "2022-08-08T18:19:23.546Z"
   },
   {
    "duration": 23,
    "start_time": "2022-08-08T18:19:24.089Z"
   },
   {
    "duration": 6,
    "start_time": "2022-08-08T18:19:24.115Z"
   },
   {
    "duration": 5,
    "start_time": "2022-08-08T18:19:24.122Z"
   },
   {
    "duration": 6,
    "start_time": "2022-08-08T18:19:24.128Z"
   },
   {
    "duration": 11,
    "start_time": "2022-08-08T18:19:24.135Z"
   },
   {
    "duration": 3,
    "start_time": "2022-08-08T18:19:24.148Z"
   },
   {
    "duration": 5,
    "start_time": "2022-08-08T18:19:24.152Z"
   },
   {
    "duration": 52,
    "start_time": "2022-08-08T18:19:24.158Z"
   },
   {
    "duration": 14620,
    "start_time": "2022-08-08T18:19:24.212Z"
   },
   {
    "duration": 6,
    "start_time": "2022-08-08T18:19:38.834Z"
   },
   {
    "duration": 7,
    "start_time": "2022-08-08T18:19:38.842Z"
   },
   {
    "duration": 5,
    "start_time": "2022-08-08T18:19:38.850Z"
   },
   {
    "duration": 8,
    "start_time": "2022-08-08T18:19:38.856Z"
   },
   {
    "duration": 6,
    "start_time": "2022-08-08T18:19:38.865Z"
   },
   {
    "duration": 4,
    "start_time": "2022-08-08T18:19:38.872Z"
   },
   {
    "duration": 5,
    "start_time": "2022-08-08T18:19:38.878Z"
   },
   {
    "duration": 4,
    "start_time": "2022-08-08T18:19:38.885Z"
   },
   {
    "duration": 78,
    "start_time": "2022-08-08T18:19:38.890Z"
   },
   {
    "duration": 9,
    "start_time": "2022-08-08T18:19:38.970Z"
   },
   {
    "duration": 10,
    "start_time": "2022-08-08T18:19:38.981Z"
   },
   {
    "duration": 19,
    "start_time": "2022-08-08T18:19:38.992Z"
   },
   {
    "duration": 5,
    "start_time": "2022-08-08T18:19:39.013Z"
   },
   {
    "duration": 5,
    "start_time": "2022-08-08T18:19:39.020Z"
   },
   {
    "duration": 41,
    "start_time": "2022-08-08T18:19:39.026Z"
   },
   {
    "duration": 7,
    "start_time": "2022-08-08T18:19:39.069Z"
   },
   {
    "duration": 200,
    "start_time": "2022-08-08T18:19:39.077Z"
   },
   {
    "duration": 147,
    "start_time": "2022-08-08T18:19:39.279Z"
   },
   {
    "duration": 0,
    "start_time": "2022-08-08T18:19:39.429Z"
   },
   {
    "duration": 0,
    "start_time": "2022-08-08T18:19:39.430Z"
   },
   {
    "duration": 0,
    "start_time": "2022-08-08T18:19:39.430Z"
   },
   {
    "duration": 0,
    "start_time": "2022-08-08T18:19:39.431Z"
   },
   {
    "duration": 5,
    "start_time": "2022-08-08T18:22:15.068Z"
   },
   {
    "duration": 768,
    "start_time": "2022-08-08T18:22:26.267Z"
   },
   {
    "duration": 7,
    "start_time": "2022-08-08T18:22:30.155Z"
   },
   {
    "duration": 4,
    "start_time": "2022-08-08T18:22:34.203Z"
   },
   {
    "duration": 7,
    "start_time": "2022-08-08T18:22:38.803Z"
   },
   {
    "duration": 1559,
    "start_time": "2022-08-08T18:23:27.190Z"
   },
   {
    "duration": 202,
    "start_time": "2022-08-08T18:23:28.751Z"
   },
   {
    "duration": 779,
    "start_time": "2022-08-08T18:23:28.955Z"
   },
   {
    "duration": 2,
    "start_time": "2022-08-08T18:23:29.736Z"
   },
   {
    "duration": 29,
    "start_time": "2022-08-08T18:23:29.741Z"
   },
   {
    "duration": 15,
    "start_time": "2022-08-08T18:23:29.772Z"
   },
   {
    "duration": 236,
    "start_time": "2022-08-08T18:23:29.788Z"
   },
   {
    "duration": 6,
    "start_time": "2022-08-08T18:23:30.026Z"
   },
   {
    "duration": 151,
    "start_time": "2022-08-08T18:23:30.034Z"
   },
   {
    "duration": 181,
    "start_time": "2022-08-08T18:23:30.186Z"
   },
   {
    "duration": 235994,
    "start_time": "2022-08-08T18:23:30.369Z"
   },
   {
    "duration": 95,
    "start_time": "2022-08-08T18:27:26.365Z"
   },
   {
    "duration": 251,
    "start_time": "2022-08-08T18:27:26.461Z"
   },
   {
    "duration": 22,
    "start_time": "2022-08-08T18:27:26.715Z"
   },
   {
    "duration": 11,
    "start_time": "2022-08-08T18:27:26.738Z"
   },
   {
    "duration": 34,
    "start_time": "2022-08-08T18:27:26.750Z"
   },
   {
    "duration": 3,
    "start_time": "2022-08-08T18:27:26.785Z"
   },
   {
    "duration": 20,
    "start_time": "2022-08-08T18:27:26.790Z"
   },
   {
    "duration": 5,
    "start_time": "2022-08-08T18:27:26.812Z"
   },
   {
    "duration": 2267277,
    "start_time": "2022-08-08T18:27:26.819Z"
   },
   {
    "duration": 21,
    "start_time": "2022-08-08T19:05:14.099Z"
   },
   {
    "duration": 47,
    "start_time": "2022-08-08T19:05:14.123Z"
   },
   {
    "duration": 3,
    "start_time": "2022-08-08T19:05:14.172Z"
   },
   {
    "duration": 5,
    "start_time": "2022-08-08T19:05:14.176Z"
   },
   {
    "duration": 4,
    "start_time": "2022-08-08T19:05:14.183Z"
   },
   {
    "duration": 4,
    "start_time": "2022-08-08T19:05:14.188Z"
   },
   {
    "duration": 4,
    "start_time": "2022-08-08T19:05:14.194Z"
   },
   {
    "duration": 3,
    "start_time": "2022-08-08T19:05:14.223Z"
   },
   {
    "duration": 5180,
    "start_time": "2022-08-08T19:05:14.228Z"
   },
   {
    "duration": 660,
    "start_time": "2022-08-08T19:05:19.413Z"
   },
   {
    "duration": 692,
    "start_time": "2022-08-08T19:05:20.075Z"
   },
   {
    "duration": 3,
    "start_time": "2022-08-08T19:05:20.769Z"
   },
   {
    "duration": 9,
    "start_time": "2022-08-08T19:05:20.773Z"
   },
   {
    "duration": 6,
    "start_time": "2022-08-08T19:05:20.784Z"
   },
   {
    "duration": 47623,
    "start_time": "2022-08-08T19:05:20.792Z"
   },
   {
    "duration": 13,
    "start_time": "2022-08-08T19:06:08.417Z"
   },
   {
    "duration": 23746,
    "start_time": "2022-08-08T19:06:08.432Z"
   },
   {
    "duration": 15,
    "start_time": "2022-08-08T19:06:32.179Z"
   },
   {
    "duration": 15075,
    "start_time": "2022-08-08T19:06:32.195Z"
   },
   {
    "duration": 14,
    "start_time": "2022-08-08T19:06:47.272Z"
   },
   {
    "duration": 21,
    "start_time": "2022-08-08T19:06:47.290Z"
   },
   {
    "duration": 9,
    "start_time": "2022-08-08T19:06:47.327Z"
   },
   {
    "duration": 1013,
    "start_time": "2022-08-08T19:07:04.886Z"
   },
   {
    "duration": 4,
    "start_time": "2022-08-08T19:07:15.492Z"
   },
   {
    "duration": 7,
    "start_time": "2022-08-08T19:07:16.588Z"
   },
   {
    "duration": 4,
    "start_time": "2022-08-08T19:07:27.524Z"
   },
   {
    "duration": 6,
    "start_time": "2022-08-08T19:07:29.488Z"
   },
   {
    "duration": 45,
    "start_time": "2022-08-08T19:12:16.461Z"
   },
   {
    "duration": 22833,
    "start_time": "2022-08-08T19:14:50.706Z"
   },
   {
    "duration": 14512,
    "start_time": "2022-08-08T19:16:51.332Z"
   },
   {
    "duration": 11,
    "start_time": "2022-08-08T19:17:31.668Z"
   },
   {
    "duration": 14393,
    "start_time": "2022-08-08T19:17:47.692Z"
   },
   {
    "duration": 144,
    "start_time": "2022-08-08T19:18:18.515Z"
   },
   {
    "duration": 14403,
    "start_time": "2022-08-08T19:18:30.056Z"
   },
   {
    "duration": 33,
    "start_time": "2022-08-09T07:00:25.529Z"
   },
   {
    "duration": 2,
    "start_time": "2022-08-09T07:01:16.223Z"
   },
   {
    "duration": 963,
    "start_time": "2022-08-09T07:01:17.807Z"
   },
   {
    "duration": 0,
    "start_time": "2022-08-09T07:01:18.772Z"
   },
   {
    "duration": 11,
    "start_time": "2022-08-09T07:01:34.478Z"
   },
   {
    "duration": 10,
    "start_time": "2022-08-09T07:01:34.727Z"
   },
   {
    "duration": 5,
    "start_time": "2022-08-09T07:01:46.255Z"
   },
   {
    "duration": 3,
    "start_time": "2022-08-09T07:03:59.014Z"
   },
   {
    "duration": 3,
    "start_time": "2022-08-09T07:03:59.534Z"
   },
   {
    "duration": 2,
    "start_time": "2022-08-09T07:03:59.878Z"
   },
   {
    "duration": 3,
    "start_time": "2022-08-09T07:04:00.254Z"
   },
   {
    "duration": 3,
    "start_time": "2022-08-09T07:04:02.750Z"
   },
   {
    "duration": 2,
    "start_time": "2022-08-09T07:04:06.038Z"
   },
   {
    "duration": 6,
    "start_time": "2022-08-09T07:04:50.159Z"
   },
   {
    "duration": 12,
    "start_time": "2022-08-09T07:05:07.422Z"
   },
   {
    "duration": 19,
    "start_time": "2022-08-09T07:05:45.432Z"
   },
   {
    "duration": 4,
    "start_time": "2022-08-09T07:06:25.192Z"
   },
   {
    "duration": 13,
    "start_time": "2022-08-09T07:06:32.518Z"
   },
   {
    "duration": 5,
    "start_time": "2022-08-09T07:06:39.047Z"
   },
   {
    "duration": 4,
    "start_time": "2022-08-09T07:07:15.477Z"
   },
   {
    "duration": 21,
    "start_time": "2022-08-09T07:07:30.846Z"
   },
   {
    "duration": 4,
    "start_time": "2022-08-09T07:07:38.390Z"
   },
   {
    "duration": 4,
    "start_time": "2022-08-09T07:07:44.030Z"
   },
   {
    "duration": 11,
    "start_time": "2022-08-09T07:07:52.974Z"
   },
   {
    "duration": 4,
    "start_time": "2022-08-09T07:08:05.214Z"
   },
   {
    "duration": 17,
    "start_time": "2022-08-09T07:29:50.574Z"
   },
   {
    "duration": 15,
    "start_time": "2022-08-09T07:30:18.126Z"
   },
   {
    "duration": 13,
    "start_time": "2022-08-09T07:30:28.837Z"
   },
   {
    "duration": 9,
    "start_time": "2022-08-09T07:30:35.709Z"
   },
   {
    "duration": 14,
    "start_time": "2022-08-09T07:30:39.396Z"
   },
   {
    "duration": 34,
    "start_time": "2022-08-09T07:30:46.197Z"
   },
   {
    "duration": 30,
    "start_time": "2022-08-09T07:30:49.787Z"
   },
   {
    "duration": 8,
    "start_time": "2022-08-09T07:31:02.901Z"
   },
   {
    "duration": 4,
    "start_time": "2022-08-09T07:32:24.070Z"
   },
   {
    "duration": 5,
    "start_time": "2022-08-09T07:33:17.605Z"
   },
   {
    "duration": 5,
    "start_time": "2022-08-09T07:34:20.124Z"
   },
   {
    "duration": 20,
    "start_time": "2022-08-09T07:34:37.822Z"
   },
   {
    "duration": 5,
    "start_time": "2022-08-09T07:34:53.085Z"
   },
   {
    "duration": 20,
    "start_time": "2022-08-09T07:35:12.935Z"
   },
   {
    "duration": 18,
    "start_time": "2022-08-09T07:35:22.911Z"
   },
   {
    "duration": 1716,
    "start_time": "2022-08-09T07:35:44.860Z"
   },
   {
    "duration": 19,
    "start_time": "2022-08-09T07:35:59.876Z"
   },
   {
    "duration": 8,
    "start_time": "2022-08-09T07:36:09.941Z"
   },
   {
    "duration": 9,
    "start_time": "2022-08-09T07:36:21.972Z"
   },
   {
    "duration": 4,
    "start_time": "2022-08-09T07:36:51.188Z"
   },
   {
    "duration": 11,
    "start_time": "2022-08-09T07:37:04.900Z"
   },
   {
    "duration": 162,
    "start_time": "2022-08-09T07:37:57.397Z"
   },
   {
    "duration": 13,
    "start_time": "2022-08-09T07:38:16.101Z"
   },
   {
    "duration": 12,
    "start_time": "2022-08-09T07:38:26.722Z"
   },
   {
    "duration": 10,
    "start_time": "2022-08-09T07:38:39.548Z"
   },
   {
    "duration": 3,
    "start_time": "2022-08-09T07:38:43.572Z"
   },
   {
    "duration": 4,
    "start_time": "2022-08-09T07:38:52.708Z"
   },
   {
    "duration": 4,
    "start_time": "2022-08-09T07:39:01.805Z"
   },
   {
    "duration": 13,
    "start_time": "2022-08-09T07:39:04.036Z"
   },
   {
    "duration": 5,
    "start_time": "2022-08-09T07:39:38.723Z"
   },
   {
    "duration": 4,
    "start_time": "2022-08-09T07:40:00.723Z"
   },
   {
    "duration": 5,
    "start_time": "2022-08-09T07:40:18.022Z"
   },
   {
    "duration": 4,
    "start_time": "2022-08-09T07:40:34.796Z"
   },
   {
    "duration": 11,
    "start_time": "2022-08-09T07:40:37.523Z"
   },
   {
    "duration": 10,
    "start_time": "2022-08-09T07:41:45.023Z"
   },
   {
    "duration": 3,
    "start_time": "2022-08-09T07:41:53.325Z"
   },
   {
    "duration": 9,
    "start_time": "2022-08-09T07:42:04.380Z"
   },
   {
    "duration": 3,
    "start_time": "2022-08-09T07:42:07.700Z"
   },
   {
    "duration": 10,
    "start_time": "2022-08-09T07:42:09.876Z"
   },
   {
    "duration": 13,
    "start_time": "2022-08-09T07:42:25.764Z"
   },
   {
    "duration": 4,
    "start_time": "2022-08-09T07:42:30.564Z"
   },
   {
    "duration": 8,
    "start_time": "2022-08-09T07:43:02.628Z"
   },
   {
    "duration": 10,
    "start_time": "2022-08-09T07:43:27.905Z"
   },
   {
    "duration": 103,
    "start_time": "2022-08-09T07:43:44.404Z"
   },
   {
    "duration": 40065,
    "start_time": "2022-08-09T07:43:48.540Z"
   },
   {
    "duration": 5,
    "start_time": "2022-08-09T07:45:36.243Z"
   },
   {
    "duration": 4,
    "start_time": "2022-08-09T07:45:42.629Z"
   },
   {
    "duration": 4,
    "start_time": "2022-08-09T07:45:56.075Z"
   },
   {
    "duration": 5,
    "start_time": "2022-08-09T07:47:01.299Z"
   },
   {
    "duration": 1770,
    "start_time": "2022-08-09T07:49:16.349Z"
   },
   {
    "duration": 638,
    "start_time": "2022-08-09T07:49:18.121Z"
   },
   {
    "duration": 2,
    "start_time": "2022-08-09T07:49:18.760Z"
   },
   {
    "duration": 33,
    "start_time": "2022-08-09T07:49:18.764Z"
   },
   {
    "duration": 16,
    "start_time": "2022-08-09T07:49:18.799Z"
   },
   {
    "duration": 267,
    "start_time": "2022-08-09T07:49:18.816Z"
   },
   {
    "duration": 7,
    "start_time": "2022-08-09T07:49:19.085Z"
   },
   {
    "duration": 144,
    "start_time": "2022-08-09T07:49:19.094Z"
   },
   {
    "duration": 187,
    "start_time": "2022-08-09T07:49:19.240Z"
   },
   {
    "duration": 267116,
    "start_time": "2022-08-09T07:49:19.429Z"
   },
   {
    "duration": 75,
    "start_time": "2022-08-09T07:53:46.555Z"
   },
   {
    "duration": 233,
    "start_time": "2022-08-09T07:53:46.632Z"
   },
   {
    "duration": 24,
    "start_time": "2022-08-09T07:53:46.866Z"
   },
   {
    "duration": 5,
    "start_time": "2022-08-09T07:53:46.892Z"
   },
   {
    "duration": 31,
    "start_time": "2022-08-09T07:53:46.898Z"
   },
   {
    "duration": 2,
    "start_time": "2022-08-09T07:53:46.931Z"
   },
   {
    "duration": 22,
    "start_time": "2022-08-09T07:53:46.934Z"
   },
   {
    "duration": 6,
    "start_time": "2022-08-09T07:53:46.957Z"
   },
   {
    "duration": 2122237,
    "start_time": "2022-08-09T07:53:46.964Z"
   },
   {
    "duration": 6,
    "start_time": "2022-08-09T08:29:09.203Z"
   },
   {
    "duration": 44,
    "start_time": "2022-08-09T08:29:09.210Z"
   },
   {
    "duration": 5,
    "start_time": "2022-08-09T08:29:09.256Z"
   },
   {
    "duration": 38,
    "start_time": "2022-08-09T08:29:09.263Z"
   },
   {
    "duration": 3,
    "start_time": "2022-08-09T08:29:09.303Z"
   },
   {
    "duration": 6,
    "start_time": "2022-08-09T08:29:09.307Z"
   },
   {
    "duration": 9,
    "start_time": "2022-08-09T08:29:09.314Z"
   },
   {
    "duration": 8,
    "start_time": "2022-08-09T08:29:09.325Z"
   },
   {
    "duration": 6,
    "start_time": "2022-08-09T08:29:09.336Z"
   },
   {
    "duration": 12,
    "start_time": "2022-08-09T08:29:09.343Z"
   },
   {
    "duration": 4572,
    "start_time": "2022-08-09T08:29:09.356Z"
   },
   {
    "duration": 557,
    "start_time": "2022-08-09T08:29:13.930Z"
   },
   {
    "duration": 575,
    "start_time": "2022-08-09T08:29:14.489Z"
   },
   {
    "duration": 3,
    "start_time": "2022-08-09T08:29:15.066Z"
   },
   {
    "duration": 7,
    "start_time": "2022-08-09T08:29:15.071Z"
   },
   {
    "duration": 6,
    "start_time": "2022-08-09T08:29:15.080Z"
   },
   {
    "duration": 40169,
    "start_time": "2022-08-09T08:29:15.088Z"
   },
   {
    "duration": 11,
    "start_time": "2022-08-09T08:29:55.259Z"
   },
   {
    "duration": 20141,
    "start_time": "2022-08-09T08:29:55.271Z"
   },
   {
    "duration": 12,
    "start_time": "2022-08-09T08:30:15.414Z"
   },
   {
    "duration": 17289,
    "start_time": "2022-08-09T08:30:15.428Z"
   },
   {
    "duration": 12,
    "start_time": "2022-08-09T08:30:32.719Z"
   },
   {
    "duration": 4,
    "start_time": "2022-08-09T08:30:32.732Z"
   },
   {
    "duration": 7,
    "start_time": "2022-08-09T08:30:32.754Z"
   },
   {
    "duration": 5,
    "start_time": "2022-08-09T09:19:05.749Z"
   },
   {
    "duration": 14,
    "start_time": "2022-08-09T09:19:11.836Z"
   },
   {
    "duration": 14,
    "start_time": "2022-08-09T09:19:31.037Z"
   },
   {
    "duration": 15,
    "start_time": "2022-08-09T09:20:49.985Z"
   },
   {
    "duration": 595,
    "start_time": "2022-08-09T09:20:57.172Z"
   },
   {
    "duration": 17,
    "start_time": "2022-08-09T09:21:25.236Z"
   },
   {
    "duration": 36,
    "start_time": "2022-08-09T09:21:42.693Z"
   },
   {
    "duration": 3508,
    "start_time": "2022-08-09T09:21:49.588Z"
   },
   {
    "duration": 82,
    "start_time": "2022-08-09T09:21:58.833Z"
   },
   {
    "duration": 7,
    "start_time": "2022-08-09T09:25:06.778Z"
   },
   {
    "duration": 78,
    "start_time": "2022-08-09T09:27:40.547Z"
   },
   {
    "duration": 147,
    "start_time": "2022-08-09T09:29:52.219Z"
   },
   {
    "duration": 8,
    "start_time": "2022-08-09T09:33:09.001Z"
   },
   {
    "duration": 7,
    "start_time": "2022-08-09T09:33:31.420Z"
   },
   {
    "duration": 10,
    "start_time": "2022-08-09T09:33:36.664Z"
   },
   {
    "duration": 7,
    "start_time": "2022-08-09T09:33:55.579Z"
   },
   {
    "duration": 7,
    "start_time": "2022-08-09T09:34:55.858Z"
   },
   {
    "duration": 8,
    "start_time": "2022-08-09T09:35:27.793Z"
   },
   {
    "duration": 16,
    "start_time": "2022-08-09T09:35:48.177Z"
   },
   {
    "duration": 82,
    "start_time": "2022-08-09T16:48:50.358Z"
   },
   {
    "duration": 1974,
    "start_time": "2022-08-09T16:49:08.475Z"
   },
   {
    "duration": 2494,
    "start_time": "2022-08-09T16:49:11.770Z"
   },
   {
    "duration": 4,
    "start_time": "2022-08-09T16:49:19.766Z"
   },
   {
    "duration": 16,
    "start_time": "2022-08-09T16:49:22.602Z"
   },
   {
    "duration": 13,
    "start_time": "2022-08-09T16:49:22.802Z"
   },
   {
    "duration": 9,
    "start_time": "2022-08-09T16:49:25.106Z"
   },
   {
    "duration": 7,
    "start_time": "2022-08-09T16:49:25.474Z"
   },
   {
    "duration": 151,
    "start_time": "2022-08-09T16:49:26.050Z"
   },
   {
    "duration": 88,
    "start_time": "2022-08-09T16:49:26.618Z"
   },
   {
    "duration": 642,
    "start_time": "2022-08-09T16:49:29.898Z"
   },
   {
    "duration": 5,
    "start_time": "2022-08-09T16:49:35.666Z"
   },
   {
    "duration": 7,
    "start_time": "2022-08-09T16:49:36.058Z"
   },
   {
    "duration": 5,
    "start_time": "2022-08-09T16:49:36.594Z"
   },
   {
    "duration": 3,
    "start_time": "2022-08-09T16:49:36.946Z"
   },
   {
    "duration": 13,
    "start_time": "2022-08-09T16:49:37.491Z"
   },
   {
    "duration": 3,
    "start_time": "2022-08-09T16:49:48.209Z"
   },
   {
    "duration": 3,
    "start_time": "2022-08-09T16:49:48.699Z"
   },
   {
    "duration": 10,
    "start_time": "2022-08-09T16:49:48.930Z"
   },
   {
    "duration": 3,
    "start_time": "2022-08-09T16:58:11.183Z"
   },
   {
    "duration": 236,
    "start_time": "2022-08-09T16:59:35.930Z"
   },
   {
    "duration": 417,
    "start_time": "2022-08-09T17:00:20.258Z"
   },
   {
    "duration": 15724,
    "start_time": "2022-08-09T17:00:55.083Z"
   },
   {
    "duration": 3,
    "start_time": "2022-08-09T17:02:25.412Z"
   },
   {
    "duration": 12,
    "start_time": "2022-08-09T17:02:39.728Z"
   },
   {
    "duration": 1676,
    "start_time": "2022-08-09T17:03:06.395Z"
   },
   {
    "duration": 156,
    "start_time": "2022-08-09T17:03:08.074Z"
   },
   {
    "duration": 844,
    "start_time": "2022-08-09T17:03:08.231Z"
   },
   {
    "duration": 3,
    "start_time": "2022-08-09T17:03:09.077Z"
   },
   {
    "duration": 23,
    "start_time": "2022-08-09T17:03:09.081Z"
   },
   {
    "duration": 16,
    "start_time": "2022-08-09T17:03:09.106Z"
   },
   {
    "duration": 8,
    "start_time": "2022-08-09T17:03:09.124Z"
   },
   {
    "duration": 8,
    "start_time": "2022-08-09T17:03:09.134Z"
   },
   {
    "duration": 174,
    "start_time": "2022-08-09T17:03:09.144Z"
   },
   {
    "duration": 99,
    "start_time": "2022-08-09T17:03:09.321Z"
   },
   {
    "duration": 558,
    "start_time": "2022-08-09T17:03:09.423Z"
   },
   {
    "duration": 16,
    "start_time": "2022-08-09T17:03:09.983Z"
   },
   {
    "duration": 7,
    "start_time": "2022-08-09T17:03:10.001Z"
   },
   {
    "duration": 7,
    "start_time": "2022-08-09T17:03:10.010Z"
   },
   {
    "duration": 4,
    "start_time": "2022-08-09T17:03:10.346Z"
   },
   {
    "duration": 11,
    "start_time": "2022-08-09T17:03:10.578Z"
   },
   {
    "duration": 3,
    "start_time": "2022-08-09T17:03:10.810Z"
   },
   {
    "duration": 12,
    "start_time": "2022-08-09T17:03:11.001Z"
   },
   {
    "duration": 3,
    "start_time": "2022-08-09T17:03:12.682Z"
   },
   {
    "duration": 3,
    "start_time": "2022-08-09T17:03:12.866Z"
   },
   {
    "duration": 5,
    "start_time": "2022-08-09T17:03:13.455Z"
   },
   {
    "duration": 3,
    "start_time": "2022-08-09T17:03:14.099Z"
   },
   {
    "duration": 1393,
    "start_time": "2022-08-09T17:03:21.059Z"
   },
   {
    "duration": 64,
    "start_time": "2022-08-09T17:03:22.536Z"
   },
   {
    "duration": 1738,
    "start_time": "2022-08-09T17:03:42.853Z"
   },
   {
    "duration": 201,
    "start_time": "2022-08-09T17:03:44.592Z"
   },
   {
    "duration": 852,
    "start_time": "2022-08-09T17:03:44.795Z"
   },
   {
    "duration": 3,
    "start_time": "2022-08-09T17:03:45.648Z"
   },
   {
    "duration": 13,
    "start_time": "2022-08-09T17:03:45.653Z"
   },
   {
    "duration": 14,
    "start_time": "2022-08-09T17:03:45.668Z"
   },
   {
    "duration": 24,
    "start_time": "2022-08-09T17:03:45.683Z"
   },
   {
    "duration": 9,
    "start_time": "2022-08-09T17:03:45.709Z"
   },
   {
    "duration": 163,
    "start_time": "2022-08-09T17:03:45.720Z"
   },
   {
    "duration": 97,
    "start_time": "2022-08-09T17:03:45.884Z"
   },
   {
    "duration": 640,
    "start_time": "2022-08-09T17:03:45.982Z"
   },
   {
    "duration": 5,
    "start_time": "2022-08-09T17:03:46.623Z"
   },
   {
    "duration": 15,
    "start_time": "2022-08-09T17:03:46.630Z"
   },
   {
    "duration": 5,
    "start_time": "2022-08-09T17:03:46.648Z"
   },
   {
    "duration": 5,
    "start_time": "2022-08-09T17:03:46.655Z"
   },
   {
    "duration": 39,
    "start_time": "2022-08-09T17:03:46.661Z"
   },
   {
    "duration": 3,
    "start_time": "2022-08-09T17:03:46.702Z"
   },
   {
    "duration": 12,
    "start_time": "2022-08-09T17:03:46.707Z"
   },
   {
    "duration": 3,
    "start_time": "2022-08-09T17:03:46.721Z"
   },
   {
    "duration": 16,
    "start_time": "2022-08-09T17:03:46.725Z"
   },
   {
    "duration": 10,
    "start_time": "2022-08-09T17:03:46.743Z"
   },
   {
    "duration": 5,
    "start_time": "2022-08-09T17:03:46.754Z"
   },
   {
    "duration": 1446,
    "start_time": "2022-08-09T17:03:46.761Z"
   },
   {
    "duration": 69,
    "start_time": "2022-08-09T17:03:48.209Z"
   },
   {
    "duration": 14236,
    "start_time": "2022-08-09T17:03:48.280Z"
   },
   {
    "duration": 7,
    "start_time": "2022-08-09T17:04:02.517Z"
   },
   {
    "duration": 6,
    "start_time": "2022-08-09T17:04:02.526Z"
   },
   {
    "duration": 7,
    "start_time": "2022-08-09T17:04:02.534Z"
   },
   {
    "duration": 5,
    "start_time": "2022-08-09T17:04:02.543Z"
   },
   {
    "duration": 7,
    "start_time": "2022-08-09T17:04:02.549Z"
   },
   {
    "duration": 6,
    "start_time": "2022-08-09T17:04:02.557Z"
   },
   {
    "duration": 20,
    "start_time": "2022-08-09T17:04:02.564Z"
   },
   {
    "duration": 13,
    "start_time": "2022-08-09T17:04:02.585Z"
   },
   {
    "duration": 70,
    "start_time": "2022-08-09T17:04:02.600Z"
   },
   {
    "duration": 10,
    "start_time": "2022-08-09T17:04:02.672Z"
   },
   {
    "duration": 15,
    "start_time": "2022-08-09T17:04:02.684Z"
   },
   {
    "duration": 6,
    "start_time": "2022-08-09T17:04:02.701Z"
   },
   {
    "duration": 5,
    "start_time": "2022-08-09T17:04:02.709Z"
   },
   {
    "duration": 5,
    "start_time": "2022-08-09T17:04:02.716Z"
   },
   {
    "duration": 46,
    "start_time": "2022-08-09T17:04:02.723Z"
   },
   {
    "duration": 29,
    "start_time": "2022-08-09T17:04:02.774Z"
   },
   {
    "duration": 193,
    "start_time": "2022-08-09T17:04:02.805Z"
   },
   {
    "duration": 7,
    "start_time": "2022-08-09T17:04:03.000Z"
   },
   {
    "duration": 864,
    "start_time": "2022-08-09T17:04:03.008Z"
   },
   {
    "duration": 6,
    "start_time": "2022-08-09T17:04:03.873Z"
   },
   {
    "duration": 5,
    "start_time": "2022-08-09T17:04:03.898Z"
   },
   {
    "duration": 12,
    "start_time": "2022-08-09T17:04:03.904Z"
   },
   {
    "duration": 6,
    "start_time": "2022-08-09T17:04:03.918Z"
   },
   {
    "duration": 10,
    "start_time": "2022-08-09T17:04:03.925Z"
   },
   {
    "duration": 863,
    "start_time": "2022-08-09T17:04:03.937Z"
   },
   {
    "duration": 2,
    "start_time": "2022-08-09T17:04:04.802Z"
   },
   {
    "duration": 16,
    "start_time": "2022-08-09T17:04:04.806Z"
   },
   {
    "duration": 11,
    "start_time": "2022-08-09T17:04:04.823Z"
   },
   {
    "duration": 13,
    "start_time": "2022-08-09T17:04:04.835Z"
   },
   {
    "duration": 10,
    "start_time": "2022-08-09T17:04:04.849Z"
   },
   {
    "duration": 310,
    "start_time": "2022-08-09T17:04:04.861Z"
   },
   {
    "duration": 117,
    "start_time": "2022-08-09T17:04:05.173Z"
   },
   {
    "duration": 579,
    "start_time": "2022-08-09T17:04:05.299Z"
   },
   {
    "duration": 19,
    "start_time": "2022-08-09T17:04:05.880Z"
   },
   {
    "duration": 6,
    "start_time": "2022-08-09T17:04:05.901Z"
   },
   {
    "duration": 6,
    "start_time": "2022-08-09T17:04:05.909Z"
   },
   {
    "duration": 8,
    "start_time": "2022-08-09T17:04:05.916Z"
   },
   {
    "duration": 15,
    "start_time": "2022-08-09T17:04:05.925Z"
   },
   {
    "duration": 7,
    "start_time": "2022-08-09T17:04:05.942Z"
   },
   {
    "duration": 17,
    "start_time": "2022-08-09T17:04:05.951Z"
   },
   {
    "duration": 3,
    "start_time": "2022-08-09T17:04:05.970Z"
   },
   {
    "duration": 4,
    "start_time": "2022-08-09T17:04:05.999Z"
   },
   {
    "duration": 7,
    "start_time": "2022-08-09T17:04:14.384Z"
   },
   {
    "duration": 4,
    "start_time": "2022-08-09T17:04:15.055Z"
   },
   {
    "duration": 14269,
    "start_time": "2022-08-09T17:04:28.871Z"
   },
   {
    "duration": 13151,
    "start_time": "2022-08-09T17:05:31.350Z"
   },
   {
    "duration": 8,
    "start_time": "2022-08-09T17:06:55.710Z"
   },
   {
    "duration": 6,
    "start_time": "2022-08-09T17:06:57.377Z"
   },
   {
    "duration": 3,
    "start_time": "2022-08-09T17:07:00.333Z"
   },
   {
    "duration": 3,
    "start_time": "2022-08-09T17:07:00.621Z"
   },
   {
    "duration": 3,
    "start_time": "2022-08-09T17:07:00.933Z"
   },
   {
    "duration": 3,
    "start_time": "2022-08-09T17:07:01.501Z"
   },
   {
    "duration": 3,
    "start_time": "2022-08-09T17:07:01.925Z"
   },
   {
    "duration": 7,
    "start_time": "2022-08-09T17:07:04.569Z"
   },
   {
    "duration": 66,
    "start_time": "2022-08-09T17:07:04.941Z"
   },
   {
    "duration": 10,
    "start_time": "2022-08-09T17:07:05.321Z"
   },
   {
    "duration": 10,
    "start_time": "2022-08-09T17:07:05.561Z"
   },
   {
    "duration": 4,
    "start_time": "2022-08-09T17:07:05.793Z"
   },
   {
    "duration": 3,
    "start_time": "2022-08-09T17:07:06.033Z"
   },
   {
    "duration": 3,
    "start_time": "2022-08-09T17:07:06.361Z"
   },
   {
    "duration": 55,
    "start_time": "2022-08-09T17:10:14.459Z"
   },
   {
    "duration": 176,
    "start_time": "2022-08-09T17:15:06.169Z"
   },
   {
    "duration": 913,
    "start_time": "2022-08-09T17:15:34.108Z"
   },
   {
    "duration": 843,
    "start_time": "2022-08-09T17:15:48.844Z"
   },
   {
    "duration": 820,
    "start_time": "2022-08-09T17:16:19.920Z"
   },
   {
    "duration": 806,
    "start_time": "2022-08-09T17:17:00.539Z"
   },
   {
    "duration": 826,
    "start_time": "2022-08-09T17:17:42.555Z"
   },
   {
    "duration": 5,
    "start_time": "2022-08-09T17:19:35.722Z"
   },
   {
    "duration": 7,
    "start_time": "2022-08-09T17:19:38.463Z"
   },
   {
    "duration": 3,
    "start_time": "2022-08-09T17:20:22.489Z"
   },
   {
    "duration": 4,
    "start_time": "2022-08-09T17:24:22.359Z"
   },
   {
    "duration": 7,
    "start_time": "2022-08-09T17:24:28.640Z"
   },
   {
    "duration": 5,
    "start_time": "2022-08-09T17:25:37.799Z"
   },
   {
    "duration": 4,
    "start_time": "2022-08-09T17:31:30.948Z"
   },
   {
    "duration": 5,
    "start_time": "2022-08-09T17:40:21.602Z"
   },
   {
    "duration": 1669,
    "start_time": "2022-08-09T17:41:44.776Z"
   },
   {
    "duration": 152,
    "start_time": "2022-08-09T17:41:46.447Z"
   },
   {
    "duration": 830,
    "start_time": "2022-08-09T17:41:46.601Z"
   },
   {
    "duration": 3,
    "start_time": "2022-08-09T17:41:47.433Z"
   },
   {
    "duration": 13,
    "start_time": "2022-08-09T17:41:47.438Z"
   },
   {
    "duration": 12,
    "start_time": "2022-08-09T17:41:47.453Z"
   },
   {
    "duration": 8,
    "start_time": "2022-08-09T17:41:47.467Z"
   },
   {
    "duration": 7,
    "start_time": "2022-08-09T17:41:47.498Z"
   },
   {
    "duration": 155,
    "start_time": "2022-08-09T17:41:47.506Z"
   },
   {
    "duration": 97,
    "start_time": "2022-08-09T17:41:47.663Z"
   },
   {
    "duration": 565,
    "start_time": "2022-08-09T17:41:47.761Z"
   },
   {
    "duration": 5,
    "start_time": "2022-08-09T17:41:48.328Z"
   },
   {
    "duration": 12,
    "start_time": "2022-08-09T17:41:48.334Z"
   },
   {
    "duration": 4,
    "start_time": "2022-08-09T17:41:48.349Z"
   },
   {
    "duration": 6,
    "start_time": "2022-08-09T17:41:48.354Z"
   },
   {
    "duration": 38,
    "start_time": "2022-08-09T17:41:48.362Z"
   },
   {
    "duration": 2,
    "start_time": "2022-08-09T17:41:48.402Z"
   },
   {
    "duration": 12,
    "start_time": "2022-08-09T17:41:48.406Z"
   },
   {
    "duration": 4,
    "start_time": "2022-08-09T17:41:48.420Z"
   },
   {
    "duration": 7,
    "start_time": "2022-08-09T17:41:48.426Z"
   },
   {
    "duration": 13,
    "start_time": "2022-08-09T17:41:48.435Z"
   },
   {
    "duration": 8,
    "start_time": "2022-08-09T17:41:48.449Z"
   },
   {
    "duration": 1483,
    "start_time": "2022-08-09T17:41:48.459Z"
   },
   {
    "duration": 82,
    "start_time": "2022-08-09T17:41:49.944Z"
   },
   {
    "duration": 3,
    "start_time": "2022-08-09T17:41:50.028Z"
   },
   {
    "duration": 12722,
    "start_time": "2022-08-09T17:41:50.032Z"
   },
   {
    "duration": 6,
    "start_time": "2022-08-09T17:42:02.756Z"
   },
   {
    "duration": 8,
    "start_time": "2022-08-09T17:42:02.764Z"
   },
   {
    "duration": 4,
    "start_time": "2022-08-09T17:42:02.773Z"
   },
   {
    "duration": 19,
    "start_time": "2022-08-09T17:42:02.779Z"
   },
   {
    "duration": 5,
    "start_time": "2022-08-09T17:42:02.800Z"
   },
   {
    "duration": 7,
    "start_time": "2022-08-09T17:42:02.806Z"
   },
   {
    "duration": 9,
    "start_time": "2022-08-09T17:42:02.815Z"
   },
   {
    "duration": 5,
    "start_time": "2022-08-09T17:42:02.826Z"
   },
   {
    "duration": 75,
    "start_time": "2022-08-09T17:42:02.833Z"
   },
   {
    "duration": 9,
    "start_time": "2022-08-09T17:42:02.910Z"
   },
   {
    "duration": 22,
    "start_time": "2022-08-09T17:42:02.920Z"
   },
   {
    "duration": 7,
    "start_time": "2022-08-09T17:42:02.944Z"
   },
   {
    "duration": 7,
    "start_time": "2022-08-09T17:42:02.953Z"
   },
   {
    "duration": 6,
    "start_time": "2022-08-09T17:42:02.962Z"
   },
   {
    "duration": 1330,
    "start_time": "2022-08-09T17:42:02.972Z"
   },
   {
    "duration": 97,
    "start_time": "2022-08-09T17:42:04.304Z"
   },
   {
    "duration": 237,
    "start_time": "2022-08-09T17:42:04.403Z"
   },
   {
    "duration": 8,
    "start_time": "2022-08-09T17:42:04.641Z"
   },
   {
    "duration": 908,
    "start_time": "2022-08-09T17:42:04.651Z"
   },
   {
    "duration": 6,
    "start_time": "2022-08-09T17:42:05.560Z"
   },
   {
    "duration": 5,
    "start_time": "2022-08-09T17:42:05.568Z"
   },
   {
    "duration": 26,
    "start_time": "2022-08-09T17:42:05.574Z"
   },
   {
    "duration": 8,
    "start_time": "2022-08-09T17:42:05.602Z"
   },
   {
    "duration": 5,
    "start_time": "2022-08-09T17:42:05.611Z"
   },
   {
    "duration": 80,
    "start_time": "2022-08-09T17:42:05.617Z"
   },
   {
    "duration": 1675,
    "start_time": "2022-08-09T17:44:40.780Z"
   },
   {
    "duration": 198,
    "start_time": "2022-08-09T17:44:42.457Z"
   },
   {
    "duration": 854,
    "start_time": "2022-08-09T17:44:42.657Z"
   },
   {
    "duration": 3,
    "start_time": "2022-08-09T17:44:43.513Z"
   },
   {
    "duration": 19,
    "start_time": "2022-08-09T17:44:43.518Z"
   },
   {
    "duration": 13,
    "start_time": "2022-08-09T17:44:43.539Z"
   },
   {
    "duration": 12,
    "start_time": "2022-08-09T17:44:43.554Z"
   },
   {
    "duration": 10,
    "start_time": "2022-08-09T17:44:43.567Z"
   },
   {
    "duration": 170,
    "start_time": "2022-08-09T17:44:43.578Z"
   },
   {
    "duration": 95,
    "start_time": "2022-08-09T17:44:43.751Z"
   },
   {
    "duration": 589,
    "start_time": "2022-08-09T17:44:43.848Z"
   },
   {
    "duration": 6,
    "start_time": "2022-08-09T17:44:44.439Z"
   },
   {
    "duration": 46,
    "start_time": "2022-08-09T17:44:44.447Z"
   },
   {
    "duration": 29,
    "start_time": "2022-08-09T17:44:44.495Z"
   },
   {
    "duration": 8,
    "start_time": "2022-08-09T17:44:44.526Z"
   },
   {
    "duration": 19,
    "start_time": "2022-08-09T17:44:44.537Z"
   },
   {
    "duration": 4,
    "start_time": "2022-08-09T17:44:44.558Z"
   },
   {
    "duration": 17,
    "start_time": "2022-08-09T17:44:44.563Z"
   },
   {
    "duration": 6,
    "start_time": "2022-08-09T17:44:44.581Z"
   },
   {
    "duration": 13,
    "start_time": "2022-08-09T17:44:44.588Z"
   },
   {
    "duration": 19,
    "start_time": "2022-08-09T17:44:44.603Z"
   },
   {
    "duration": 12,
    "start_time": "2022-08-09T17:44:44.624Z"
   },
   {
    "duration": 1425,
    "start_time": "2022-08-09T17:44:44.638Z"
   },
   {
    "duration": 84,
    "start_time": "2022-08-09T17:44:46.065Z"
   },
   {
    "duration": 2,
    "start_time": "2022-08-09T17:44:46.151Z"
   },
   {
    "duration": 1649,
    "start_time": "2022-08-09T17:44:56.305Z"
   },
   {
    "duration": 133,
    "start_time": "2022-08-09T17:44:57.956Z"
   },
   {
    "duration": 836,
    "start_time": "2022-08-09T17:44:58.090Z"
   },
   {
    "duration": 3,
    "start_time": "2022-08-09T17:44:58.928Z"
   },
   {
    "duration": 24,
    "start_time": "2022-08-09T17:44:58.933Z"
   },
   {
    "duration": 19,
    "start_time": "2022-08-09T17:44:58.958Z"
   },
   {
    "duration": 9,
    "start_time": "2022-08-09T17:44:58.979Z"
   },
   {
    "duration": 9,
    "start_time": "2022-08-09T17:44:58.999Z"
   },
   {
    "duration": 157,
    "start_time": "2022-08-09T17:44:59.009Z"
   },
   {
    "duration": 100,
    "start_time": "2022-08-09T17:44:59.168Z"
   },
   {
    "duration": 590,
    "start_time": "2022-08-09T17:44:59.270Z"
   },
   {
    "duration": 5,
    "start_time": "2022-08-09T17:44:59.862Z"
   },
   {
    "duration": 29,
    "start_time": "2022-08-09T17:44:59.869Z"
   },
   {
    "duration": 5,
    "start_time": "2022-08-09T17:44:59.902Z"
   },
   {
    "duration": 5,
    "start_time": "2022-08-09T17:44:59.909Z"
   },
   {
    "duration": 15,
    "start_time": "2022-08-09T17:44:59.915Z"
   },
   {
    "duration": 2,
    "start_time": "2022-08-09T17:44:59.932Z"
   },
   {
    "duration": 16,
    "start_time": "2022-08-09T17:44:59.936Z"
   },
   {
    "duration": 4,
    "start_time": "2022-08-09T17:44:59.955Z"
   },
   {
    "duration": 6,
    "start_time": "2022-08-09T17:44:59.960Z"
   },
   {
    "duration": 6,
    "start_time": "2022-08-09T17:44:59.997Z"
   },
   {
    "duration": 9,
    "start_time": "2022-08-09T17:45:00.005Z"
   },
   {
    "duration": 1418,
    "start_time": "2022-08-09T17:45:00.015Z"
   },
   {
    "duration": 71,
    "start_time": "2022-08-09T17:45:01.435Z"
   },
   {
    "duration": 2,
    "start_time": "2022-08-09T17:45:01.508Z"
   },
   {
    "duration": 12947,
    "start_time": "2022-08-09T17:45:01.512Z"
   },
   {
    "duration": 9,
    "start_time": "2022-08-09T17:45:14.461Z"
   },
   {
    "duration": 12,
    "start_time": "2022-08-09T17:45:14.473Z"
   },
   {
    "duration": 14,
    "start_time": "2022-08-09T17:45:14.487Z"
   },
   {
    "duration": 16,
    "start_time": "2022-08-09T17:45:14.503Z"
   },
   {
    "duration": 10,
    "start_time": "2022-08-09T17:45:14.521Z"
   },
   {
    "duration": 10,
    "start_time": "2022-08-09T17:45:14.533Z"
   },
   {
    "duration": 10,
    "start_time": "2022-08-09T17:45:14.545Z"
   },
   {
    "duration": 10,
    "start_time": "2022-08-09T17:45:14.557Z"
   },
   {
    "duration": 82,
    "start_time": "2022-08-09T17:45:14.569Z"
   },
   {
    "duration": 10,
    "start_time": "2022-08-09T17:45:14.653Z"
   },
   {
    "duration": 11,
    "start_time": "2022-08-09T17:45:14.664Z"
   },
   {
    "duration": 7,
    "start_time": "2022-08-09T17:45:14.677Z"
   },
   {
    "duration": 14,
    "start_time": "2022-08-09T17:45:14.685Z"
   },
   {
    "duration": 6,
    "start_time": "2022-08-09T17:45:14.701Z"
   },
   {
    "duration": 1389,
    "start_time": "2022-08-09T17:45:14.711Z"
   },
   {
    "duration": 3,
    "start_time": "2022-08-09T17:45:16.102Z"
   },
   {
    "duration": 276,
    "start_time": "2022-08-09T17:45:16.107Z"
   },
   {
    "duration": 2,
    "start_time": "2022-08-09T17:45:16.385Z"
   },
   {
    "duration": 845,
    "start_time": "2022-08-09T17:45:16.398Z"
   },
   {
    "duration": 2,
    "start_time": "2022-08-09T17:45:17.245Z"
   },
   {
    "duration": 9,
    "start_time": "2022-08-09T17:45:17.249Z"
   },
   {
    "duration": 9,
    "start_time": "2022-08-09T17:45:17.260Z"
   },
   {
    "duration": 6,
    "start_time": "2022-08-09T17:45:17.271Z"
   },
   {
    "duration": 21,
    "start_time": "2022-08-09T17:45:17.278Z"
   },
   {
    "duration": 1646,
    "start_time": "2022-08-09T17:46:45.043Z"
   },
   {
    "duration": 193,
    "start_time": "2022-08-09T17:46:46.691Z"
   },
   {
    "duration": 853,
    "start_time": "2022-08-09T17:46:46.885Z"
   },
   {
    "duration": 3,
    "start_time": "2022-08-09T17:46:47.740Z"
   },
   {
    "duration": 15,
    "start_time": "2022-08-09T17:46:47.745Z"
   },
   {
    "duration": 11,
    "start_time": "2022-08-09T17:46:47.762Z"
   },
   {
    "duration": 44,
    "start_time": "2022-08-09T17:46:47.775Z"
   },
   {
    "duration": 6,
    "start_time": "2022-08-09T17:46:47.821Z"
   },
   {
    "duration": 166,
    "start_time": "2022-08-09T17:46:47.828Z"
   },
   {
    "duration": 103,
    "start_time": "2022-08-09T17:46:47.995Z"
   },
   {
    "duration": 8370,
    "start_time": "2022-08-09T17:46:48.100Z"
   },
   {
    "duration": 27,
    "start_time": "2022-08-09T17:46:56.472Z"
   },
   {
    "duration": 38,
    "start_time": "2022-08-09T17:46:56.501Z"
   },
   {
    "duration": 6,
    "start_time": "2022-08-09T17:46:56.543Z"
   },
   {
    "duration": 5,
    "start_time": "2022-08-09T17:46:56.550Z"
   },
   {
    "duration": 15,
    "start_time": "2022-08-09T17:46:56.556Z"
   },
   {
    "duration": 7,
    "start_time": "2022-08-09T17:46:56.572Z"
   },
   {
    "duration": 21,
    "start_time": "2022-08-09T17:46:56.580Z"
   },
   {
    "duration": 7,
    "start_time": "2022-08-09T17:46:56.603Z"
   },
   {
    "duration": 9,
    "start_time": "2022-08-09T17:46:56.611Z"
   },
   {
    "duration": 1419,
    "start_time": "2022-08-09T17:46:56.621Z"
   },
   {
    "duration": 92,
    "start_time": "2022-08-09T17:46:58.042Z"
   },
   {
    "duration": 3,
    "start_time": "2022-08-09T17:46:58.135Z"
   },
   {
    "duration": 128465,
    "start_time": "2022-08-09T17:46:58.139Z"
   },
   {
    "duration": 6,
    "start_time": "2022-08-09T17:49:06.606Z"
   },
   {
    "duration": 8,
    "start_time": "2022-08-09T17:49:06.614Z"
   },
   {
    "duration": 3,
    "start_time": "2022-08-09T17:49:06.624Z"
   },
   {
    "duration": 5,
    "start_time": "2022-08-09T17:49:06.628Z"
   },
   {
    "duration": 4,
    "start_time": "2022-08-09T17:49:06.635Z"
   },
   {
    "duration": 4,
    "start_time": "2022-08-09T17:49:06.641Z"
   },
   {
    "duration": 6,
    "start_time": "2022-08-09T17:49:06.647Z"
   },
   {
    "duration": 5,
    "start_time": "2022-08-09T17:49:06.654Z"
   },
   {
    "duration": 619,
    "start_time": "2022-08-09T17:49:06.660Z"
   },
   {
    "duration": 68,
    "start_time": "2022-08-09T17:49:07.280Z"
   },
   {
    "duration": 75,
    "start_time": "2022-08-09T17:49:07.350Z"
   },
   {
    "duration": 3,
    "start_time": "2022-08-09T17:49:07.427Z"
   },
   {
    "duration": 11,
    "start_time": "2022-08-09T17:49:07.431Z"
   },
   {
    "duration": 5,
    "start_time": "2022-08-09T17:49:07.444Z"
   },
   {
    "duration": 6852,
    "start_time": "2022-08-09T17:49:07.450Z"
   },
   {
    "duration": 4,
    "start_time": "2022-08-09T17:49:14.398Z"
   },
   {
    "duration": 1967,
    "start_time": "2022-08-09T17:49:14.407Z"
   },
   {
    "duration": 2,
    "start_time": "2022-08-09T17:49:16.375Z"
   },
   {
    "duration": 2300,
    "start_time": "2022-08-09T17:49:16.379Z"
   },
   {
    "duration": 2,
    "start_time": "2022-08-09T17:49:18.681Z"
   },
   {
    "duration": 4,
    "start_time": "2022-08-09T17:49:18.698Z"
   },
   {
    "duration": 10,
    "start_time": "2022-08-09T17:49:18.703Z"
   },
   {
    "duration": 8,
    "start_time": "2022-08-09T17:49:18.715Z"
   },
   {
    "duration": 3,
    "start_time": "2022-08-09T17:49:18.725Z"
   },
   {
    "duration": 4,
    "start_time": "2022-08-09T17:52:05.402Z"
   },
   {
    "duration": 141,
    "start_time": "2022-08-09T17:52:12.953Z"
   },
   {
    "duration": 3,
    "start_time": "2022-08-09T17:53:12.953Z"
   },
   {
    "duration": 5,
    "start_time": "2022-08-09T18:01:54.028Z"
   },
   {
    "duration": 6,
    "start_time": "2022-08-09T18:01:55.510Z"
   },
   {
    "duration": 4,
    "start_time": "2022-08-09T18:01:57.048Z"
   },
   {
    "duration": 11,
    "start_time": "2022-08-09T18:02:06.972Z"
   },
   {
    "duration": 6,
    "start_time": "2022-08-09T18:02:24.880Z"
   },
   {
    "duration": 5,
    "start_time": "2022-08-09T18:02:30.652Z"
   },
   {
    "duration": 4,
    "start_time": "2022-08-09T18:02:33.996Z"
   },
   {
    "duration": 14,
    "start_time": "2022-08-09T18:02:46.292Z"
   },
   {
    "duration": 3,
    "start_time": "2022-08-09T18:03:27.748Z"
   },
   {
    "duration": 96,
    "start_time": "2022-08-09T18:06:47.406Z"
   },
   {
    "duration": 4,
    "start_time": "2022-08-09T18:07:04.354Z"
   },
   {
    "duration": 4,
    "start_time": "2022-08-09T18:07:18.118Z"
   },
   {
    "duration": 3,
    "start_time": "2022-08-09T18:07:38.442Z"
   },
   {
    "duration": 1629,
    "start_time": "2022-08-09T18:08:27.945Z"
   },
   {
    "duration": 128,
    "start_time": "2022-08-09T18:08:29.575Z"
   },
   {
    "duration": 877,
    "start_time": "2022-08-09T18:08:29.704Z"
   },
   {
    "duration": 3,
    "start_time": "2022-08-09T18:08:30.583Z"
   },
   {
    "duration": 23,
    "start_time": "2022-08-09T18:08:30.598Z"
   },
   {
    "duration": 30,
    "start_time": "2022-08-09T18:08:30.624Z"
   },
   {
    "duration": 45,
    "start_time": "2022-08-09T18:08:30.655Z"
   },
   {
    "duration": 26,
    "start_time": "2022-08-09T18:08:30.701Z"
   },
   {
    "duration": 152,
    "start_time": "2022-08-09T18:08:30.729Z"
   },
   {
    "duration": 95,
    "start_time": "2022-08-09T18:08:30.882Z"
   },
   {
    "duration": 2292,
    "start_time": "2022-08-09T18:08:30.979Z"
   },
   {
    "duration": 27,
    "start_time": "2022-08-09T18:08:33.273Z"
   },
   {
    "duration": 14,
    "start_time": "2022-08-09T18:08:33.302Z"
   },
   {
    "duration": 4,
    "start_time": "2022-08-09T18:08:33.319Z"
   },
   {
    "duration": 6,
    "start_time": "2022-08-09T18:08:33.325Z"
   },
   {
    "duration": 13,
    "start_time": "2022-08-09T18:08:33.333Z"
   },
   {
    "duration": 4,
    "start_time": "2022-08-09T18:08:33.347Z"
   },
   {
    "duration": 7,
    "start_time": "2022-08-09T18:08:33.352Z"
   },
   {
    "duration": 8,
    "start_time": "2022-08-09T18:08:33.361Z"
   },
   {
    "duration": 27,
    "start_time": "2022-08-09T18:08:33.371Z"
   },
   {
    "duration": 1418,
    "start_time": "2022-08-09T18:08:33.400Z"
   },
   {
    "duration": 195,
    "start_time": "2022-08-09T18:08:34.819Z"
   },
   {
    "duration": 2,
    "start_time": "2022-08-09T18:08:35.015Z"
   },
   {
    "duration": 42530,
    "start_time": "2022-08-09T18:08:35.019Z"
   },
   {
    "duration": 8,
    "start_time": "2022-08-09T18:09:17.551Z"
   },
   {
    "duration": 6,
    "start_time": "2022-08-09T18:09:17.561Z"
   },
   {
    "duration": 3,
    "start_time": "2022-08-09T18:09:17.568Z"
   },
   {
    "duration": 25,
    "start_time": "2022-08-09T18:09:17.573Z"
   },
   {
    "duration": 4,
    "start_time": "2022-08-09T18:09:17.600Z"
   },
   {
    "duration": 5,
    "start_time": "2022-08-09T18:09:17.606Z"
   },
   {
    "duration": 7,
    "start_time": "2022-08-09T18:09:17.612Z"
   },
   {
    "duration": 7,
    "start_time": "2022-08-09T18:09:17.620Z"
   },
   {
    "duration": 224,
    "start_time": "2022-08-09T18:09:17.628Z"
   },
   {
    "duration": 29,
    "start_time": "2022-08-09T18:09:17.853Z"
   },
   {
    "duration": 37,
    "start_time": "2022-08-09T18:09:17.884Z"
   },
   {
    "duration": 4,
    "start_time": "2022-08-09T18:09:17.922Z"
   },
   {
    "duration": 6,
    "start_time": "2022-08-09T18:09:17.928Z"
   },
   {
    "duration": 29,
    "start_time": "2022-08-09T18:09:17.936Z"
   },
   {
    "duration": 2633,
    "start_time": "2022-08-09T18:09:17.967Z"
   },
   {
    "duration": 91,
    "start_time": "2022-08-09T18:09:20.608Z"
   },
   {
    "duration": 588,
    "start_time": "2022-08-09T18:09:20.703Z"
   },
   {
    "duration": 6,
    "start_time": "2022-08-09T18:09:21.293Z"
   },
   {
    "duration": 1193,
    "start_time": "2022-08-09T18:09:21.300Z"
   },
   {
    "duration": 3,
    "start_time": "2022-08-09T18:09:22.498Z"
   },
   {
    "duration": 8,
    "start_time": "2022-08-09T18:09:22.503Z"
   },
   {
    "duration": 9,
    "start_time": "2022-08-09T18:09:22.513Z"
   },
   {
    "duration": 7,
    "start_time": "2022-08-09T18:09:22.524Z"
   },
   {
    "duration": 10,
    "start_time": "2022-08-09T18:09:22.532Z"
   },
   {
    "duration": 3,
    "start_time": "2022-08-09T18:09:22.544Z"
   },
   {
    "duration": 7,
    "start_time": "2022-08-09T18:11:28.711Z"
   },
   {
    "duration": 7,
    "start_time": "2022-08-09T18:11:34.595Z"
   },
   {
    "duration": 6,
    "start_time": "2022-08-09T18:11:35.699Z"
   },
   {
    "duration": 6,
    "start_time": "2022-08-09T18:12:02.943Z"
   },
   {
    "duration": 1679,
    "start_time": "2022-08-09T18:13:28.750Z"
   },
   {
    "duration": 135,
    "start_time": "2022-08-09T18:13:30.431Z"
   },
   {
    "duration": 848,
    "start_time": "2022-08-09T18:13:30.568Z"
   },
   {
    "duration": 3,
    "start_time": "2022-08-09T18:13:31.418Z"
   },
   {
    "duration": 19,
    "start_time": "2022-08-09T18:13:31.424Z"
   },
   {
    "duration": 37,
    "start_time": "2022-08-09T18:13:31.445Z"
   },
   {
    "duration": 15,
    "start_time": "2022-08-09T18:13:31.484Z"
   },
   {
    "duration": 9,
    "start_time": "2022-08-09T18:13:31.501Z"
   },
   {
    "duration": 154,
    "start_time": "2022-08-09T18:13:31.512Z"
   },
   {
    "duration": 92,
    "start_time": "2022-08-09T18:13:31.668Z"
   },
   {
    "duration": 3964,
    "start_time": "2022-08-09T18:13:31.762Z"
   },
   {
    "duration": 8,
    "start_time": "2022-08-09T18:13:35.728Z"
   },
   {
    "duration": 23,
    "start_time": "2022-08-09T18:13:35.738Z"
   },
   {
    "duration": 5,
    "start_time": "2022-08-09T18:13:35.764Z"
   },
   {
    "duration": 15,
    "start_time": "2022-08-09T18:13:35.771Z"
   },
   {
    "duration": 12,
    "start_time": "2022-08-09T18:13:35.799Z"
   },
   {
    "duration": 3,
    "start_time": "2022-08-09T18:13:35.812Z"
   },
   {
    "duration": 6,
    "start_time": "2022-08-09T18:13:35.816Z"
   },
   {
    "duration": 5,
    "start_time": "2022-08-09T18:13:35.823Z"
   },
   {
    "duration": 8,
    "start_time": "2022-08-09T18:13:35.829Z"
   },
   {
    "duration": 1416,
    "start_time": "2022-08-09T18:13:35.839Z"
   },
   {
    "duration": 82,
    "start_time": "2022-08-09T18:13:37.256Z"
   },
   {
    "duration": 2,
    "start_time": "2022-08-09T18:13:37.339Z"
   },
   {
    "duration": 70516,
    "start_time": "2022-08-09T18:13:37.342Z"
   },
   {
    "duration": 6,
    "start_time": "2022-08-09T18:14:47.860Z"
   },
   {
    "duration": 8,
    "start_time": "2022-08-09T18:14:47.868Z"
   },
   {
    "duration": 22,
    "start_time": "2022-08-09T18:14:47.877Z"
   },
   {
    "duration": 6,
    "start_time": "2022-08-09T18:14:47.901Z"
   },
   {
    "duration": 7,
    "start_time": "2022-08-09T18:14:47.908Z"
   },
   {
    "duration": 3,
    "start_time": "2022-08-09T18:14:47.917Z"
   },
   {
    "duration": 6,
    "start_time": "2022-08-09T18:14:47.921Z"
   },
   {
    "duration": 5,
    "start_time": "2022-08-09T18:14:47.928Z"
   },
   {
    "duration": 335,
    "start_time": "2022-08-09T18:14:47.935Z"
   },
   {
    "duration": 48,
    "start_time": "2022-08-09T18:14:48.272Z"
   },
   {
    "duration": 40,
    "start_time": "2022-08-09T18:14:48.321Z"
   },
   {
    "duration": 4,
    "start_time": "2022-08-09T18:14:48.363Z"
   },
   {
    "duration": 6,
    "start_time": "2022-08-09T18:14:48.369Z"
   },
   {
    "duration": 3,
    "start_time": "2022-08-09T18:14:48.398Z"
   },
   {
    "duration": 3196,
    "start_time": "2022-08-09T18:14:48.404Z"
   },
   {
    "duration": 1041,
    "start_time": "2022-08-09T18:14:51.601Z"
   },
   {
    "duration": 1554,
    "start_time": "2022-08-09T18:14:52.646Z"
   },
   {
    "duration": 5,
    "start_time": "2022-08-09T18:14:54.201Z"
   },
   {
    "duration": 13,
    "start_time": "2022-08-09T18:14:54.207Z"
   },
   {
    "duration": 6,
    "start_time": "2022-08-09T18:14:54.222Z"
   },
   {
    "duration": 6,
    "start_time": "2022-08-09T18:14:54.230Z"
   },
   {
    "duration": 10,
    "start_time": "2022-08-09T18:14:54.238Z"
   },
   {
    "duration": 5,
    "start_time": "2022-08-09T18:15:30.125Z"
   },
   {
    "duration": 148,
    "start_time": "2022-08-09T18:15:31.733Z"
   },
   {
    "duration": 4,
    "start_time": "2022-08-09T18:16:28.430Z"
   },
   {
    "duration": 9,
    "start_time": "2022-08-09T18:16:30.610Z"
   },
   {
    "duration": 4,
    "start_time": "2022-08-09T18:17:02.742Z"
   },
   {
    "duration": 3,
    "start_time": "2022-08-09T18:17:42.337Z"
   },
   {
    "duration": 4,
    "start_time": "2022-08-09T18:17:50.005Z"
   },
   {
    "duration": 4,
    "start_time": "2022-08-09T18:17:54.294Z"
   },
   {
    "duration": 4,
    "start_time": "2022-08-09T18:18:15.010Z"
   },
   {
    "duration": 3,
    "start_time": "2022-08-09T18:18:16.354Z"
   },
   {
    "duration": 4,
    "start_time": "2022-08-09T18:18:17.490Z"
   },
   {
    "duration": 4,
    "start_time": "2022-08-09T18:18:31.058Z"
   },
   {
    "duration": 4,
    "start_time": "2022-08-09T18:18:35.745Z"
   },
   {
    "duration": 51,
    "start_time": "2022-08-09T18:18:58.242Z"
   },
   {
    "duration": 5,
    "start_time": "2022-08-09T18:19:50.818Z"
   },
   {
    "duration": 3,
    "start_time": "2022-08-09T18:19:54.074Z"
   },
   {
    "duration": 4,
    "start_time": "2022-08-09T18:19:58.897Z"
   },
   {
    "duration": 4,
    "start_time": "2022-08-09T18:20:04.554Z"
   },
   {
    "duration": 5,
    "start_time": "2022-08-09T18:20:09.841Z"
   },
   {
    "duration": 4,
    "start_time": "2022-08-09T18:20:13.686Z"
   },
   {
    "duration": 4,
    "start_time": "2022-08-09T18:20:22.822Z"
   },
   {
    "duration": 6,
    "start_time": "2022-08-09T18:20:24.193Z"
   },
   {
    "duration": 3,
    "start_time": "2022-08-09T18:20:26.805Z"
   },
   {
    "duration": 1782,
    "start_time": "2022-08-09T18:21:42.297Z"
   },
   {
    "duration": 208,
    "start_time": "2022-08-09T18:21:44.081Z"
   },
   {
    "duration": 923,
    "start_time": "2022-08-09T18:21:44.291Z"
   },
   {
    "duration": 2,
    "start_time": "2022-08-09T18:21:45.216Z"
   },
   {
    "duration": 17,
    "start_time": "2022-08-09T18:21:45.221Z"
   },
   {
    "duration": 36,
    "start_time": "2022-08-09T18:21:45.240Z"
   },
   {
    "duration": 15,
    "start_time": "2022-08-09T18:21:45.278Z"
   },
   {
    "duration": 11,
    "start_time": "2022-08-09T18:21:45.294Z"
   },
   {
    "duration": 152,
    "start_time": "2022-08-09T18:21:45.306Z"
   },
   {
    "duration": 102,
    "start_time": "2022-08-09T18:21:45.460Z"
   },
   {
    "duration": 3816,
    "start_time": "2022-08-09T18:21:45.564Z"
   },
   {
    "duration": 9,
    "start_time": "2022-08-09T18:21:49.399Z"
   },
   {
    "duration": 22,
    "start_time": "2022-08-09T18:21:49.410Z"
   },
   {
    "duration": 5,
    "start_time": "2022-08-09T18:21:49.436Z"
   },
   {
    "duration": 6,
    "start_time": "2022-08-09T18:21:49.443Z"
   },
   {
    "duration": 31,
    "start_time": "2022-08-09T18:21:49.450Z"
   },
   {
    "duration": 15,
    "start_time": "2022-08-09T18:21:49.483Z"
   },
   {
    "duration": 8,
    "start_time": "2022-08-09T18:21:49.500Z"
   },
   {
    "duration": 7,
    "start_time": "2022-08-09T18:21:49.510Z"
   },
   {
    "duration": 6,
    "start_time": "2022-08-09T18:21:49.518Z"
   },
   {
    "duration": 1387,
    "start_time": "2022-08-09T18:21:49.525Z"
   },
   {
    "duration": 69,
    "start_time": "2022-08-09T18:21:50.914Z"
   },
   {
    "duration": 2,
    "start_time": "2022-08-09T18:21:50.984Z"
   },
   {
    "duration": 68602,
    "start_time": "2022-08-09T18:21:50.999Z"
   },
   {
    "duration": 7,
    "start_time": "2022-08-09T18:22:59.603Z"
   },
   {
    "duration": 8,
    "start_time": "2022-08-09T18:22:59.611Z"
   },
   {
    "duration": 6,
    "start_time": "2022-08-09T18:22:59.620Z"
   },
   {
    "duration": 7,
    "start_time": "2022-08-09T18:22:59.628Z"
   },
   {
    "duration": 5,
    "start_time": "2022-08-09T18:22:59.636Z"
   },
   {
    "duration": 7,
    "start_time": "2022-08-09T18:22:59.643Z"
   },
   {
    "duration": 7,
    "start_time": "2022-08-09T18:22:59.651Z"
   },
   {
    "duration": 10,
    "start_time": "2022-08-09T18:22:59.659Z"
   },
   {
    "duration": 332,
    "start_time": "2022-08-09T18:22:59.671Z"
   },
   {
    "duration": 41,
    "start_time": "2022-08-09T18:23:00.005Z"
   },
   {
    "duration": 50,
    "start_time": "2022-08-09T18:23:00.048Z"
   },
   {
    "duration": 13,
    "start_time": "2022-08-09T18:23:00.100Z"
   },
   {
    "duration": 24,
    "start_time": "2022-08-09T18:23:00.115Z"
   },
   {
    "duration": 10,
    "start_time": "2022-08-09T18:23:00.141Z"
   },
   {
    "duration": 5052,
    "start_time": "2022-08-09T18:23:00.153Z"
   },
   {
    "duration": 1031,
    "start_time": "2022-08-09T18:23:05.208Z"
   },
   {
    "duration": 1557,
    "start_time": "2022-08-09T18:23:06.243Z"
   },
   {
    "duration": 5,
    "start_time": "2022-08-09T18:23:07.801Z"
   },
   {
    "duration": 10,
    "start_time": "2022-08-09T18:23:07.807Z"
   },
   {
    "duration": 7,
    "start_time": "2022-08-09T18:23:07.819Z"
   },
   {
    "duration": 9,
    "start_time": "2022-08-09T18:23:07.827Z"
   },
   {
    "duration": 8,
    "start_time": "2022-08-09T18:23:07.837Z"
   },
   {
    "duration": 1712,
    "start_time": "2022-08-09T18:25:13.428Z"
   },
   {
    "duration": 209,
    "start_time": "2022-08-09T18:25:15.142Z"
   },
   {
    "duration": 858,
    "start_time": "2022-08-09T18:25:15.353Z"
   },
   {
    "duration": 3,
    "start_time": "2022-08-09T18:25:16.212Z"
   },
   {
    "duration": 14,
    "start_time": "2022-08-09T18:25:16.218Z"
   },
   {
    "duration": 19,
    "start_time": "2022-08-09T18:25:16.233Z"
   },
   {
    "duration": 10,
    "start_time": "2022-08-09T18:25:16.254Z"
   },
   {
    "duration": 9,
    "start_time": "2022-08-09T18:25:16.266Z"
   },
   {
    "duration": 152,
    "start_time": "2022-08-09T18:25:16.298Z"
   },
   {
    "duration": 106,
    "start_time": "2022-08-09T18:25:16.452Z"
   },
   {
    "duration": 201,
    "start_time": "2022-08-09T18:25:16.560Z"
   },
   {
    "duration": 6,
    "start_time": "2022-08-09T18:25:16.762Z"
   },
   {
    "duration": 10,
    "start_time": "2022-08-09T18:25:16.769Z"
   },
   {
    "duration": 4,
    "start_time": "2022-08-09T18:25:16.782Z"
   },
   {
    "duration": 6,
    "start_time": "2022-08-09T18:25:16.788Z"
   },
   {
    "duration": 13,
    "start_time": "2022-08-09T18:25:16.796Z"
   },
   {
    "duration": 3,
    "start_time": "2022-08-09T18:25:16.810Z"
   },
   {
    "duration": 5,
    "start_time": "2022-08-09T18:25:16.815Z"
   },
   {
    "duration": 4,
    "start_time": "2022-08-09T18:25:16.822Z"
   },
   {
    "duration": 4,
    "start_time": "2022-08-09T18:25:16.827Z"
   },
   {
    "duration": 1411,
    "start_time": "2022-08-09T18:25:16.833Z"
   },
   {
    "duration": 83,
    "start_time": "2022-08-09T18:25:18.245Z"
   },
   {
    "duration": 3,
    "start_time": "2022-08-09T18:25:18.329Z"
   },
   {
    "duration": 17981,
    "start_time": "2022-08-09T18:25:18.333Z"
   },
   {
    "duration": 7,
    "start_time": "2022-08-09T18:25:36.316Z"
   },
   {
    "duration": 6,
    "start_time": "2022-08-09T18:25:36.325Z"
   },
   {
    "duration": 3,
    "start_time": "2022-08-09T18:25:36.333Z"
   },
   {
    "duration": 8,
    "start_time": "2022-08-09T18:25:36.337Z"
   },
   {
    "duration": 4,
    "start_time": "2022-08-09T18:25:36.346Z"
   },
   {
    "duration": 9,
    "start_time": "2022-08-09T18:25:36.351Z"
   },
   {
    "duration": 5,
    "start_time": "2022-08-09T18:25:36.361Z"
   },
   {
    "duration": 4,
    "start_time": "2022-08-09T18:25:36.367Z"
   },
   {
    "duration": 111,
    "start_time": "2022-08-09T18:25:36.372Z"
   },
   {
    "duration": 20,
    "start_time": "2022-08-09T18:25:36.485Z"
   },
   {
    "duration": 11,
    "start_time": "2022-08-09T18:25:36.507Z"
   },
   {
    "duration": 6,
    "start_time": "2022-08-09T18:25:36.520Z"
   },
   {
    "duration": 5,
    "start_time": "2022-08-09T18:25:36.528Z"
   },
   {
    "duration": 4,
    "start_time": "2022-08-09T18:25:36.535Z"
   },
   {
    "duration": 465,
    "start_time": "2022-08-09T18:25:36.540Z"
   },
   {
    "duration": 419,
    "start_time": "2022-08-09T18:25:37.006Z"
   },
   {
    "duration": 927,
    "start_time": "2022-08-09T18:25:37.430Z"
   },
   {
    "duration": 4,
    "start_time": "2022-08-09T18:25:38.358Z"
   },
   {
    "duration": 11,
    "start_time": "2022-08-09T18:25:38.364Z"
   },
   {
    "duration": 6,
    "start_time": "2022-08-09T18:25:38.377Z"
   },
   {
    "duration": 5,
    "start_time": "2022-08-09T18:25:38.399Z"
   },
   {
    "duration": 4,
    "start_time": "2022-08-09T18:25:38.405Z"
   },
   {
    "duration": 4,
    "start_time": "2022-08-09T18:26:55.821Z"
   },
   {
    "duration": 1589,
    "start_time": "2022-08-09T18:27:05.752Z"
   },
   {
    "duration": 845,
    "start_time": "2022-08-09T18:27:07.344Z"
   },
   {
    "duration": 5,
    "start_time": "2022-08-09T18:27:08.193Z"
   },
   {
    "duration": 30,
    "start_time": "2022-08-09T18:27:08.200Z"
   },
   {
    "duration": 16,
    "start_time": "2022-08-09T18:27:08.232Z"
   },
   {
    "duration": 267,
    "start_time": "2022-08-09T18:27:08.250Z"
   },
   {
    "duration": 7,
    "start_time": "2022-08-09T18:27:08.519Z"
   },
   {
    "duration": 164,
    "start_time": "2022-08-09T18:27:08.527Z"
   },
   {
    "duration": 195,
    "start_time": "2022-08-09T18:27:08.692Z"
   },
   {
    "duration": 274738,
    "start_time": "2022-08-09T18:27:08.889Z"
   },
   {
    "duration": 98,
    "start_time": "2022-08-09T18:31:43.628Z"
   },
   {
    "duration": 293,
    "start_time": "2022-08-09T18:31:43.728Z"
   },
   {
    "duration": 25,
    "start_time": "2022-08-09T18:31:44.025Z"
   },
   {
    "duration": 5,
    "start_time": "2022-08-09T18:31:44.052Z"
   },
   {
    "duration": 59,
    "start_time": "2022-08-09T18:31:44.058Z"
   },
   {
    "duration": 2,
    "start_time": "2022-08-09T18:31:44.119Z"
   },
   {
    "duration": 8,
    "start_time": "2022-08-09T18:31:44.123Z"
   },
   {
    "duration": 6,
    "start_time": "2022-08-09T18:31:44.133Z"
   },
   {
    "duration": 15,
    "start_time": "2022-08-09T18:31:44.141Z"
   },
   {
    "duration": 1500,
    "start_time": "2022-08-09T18:31:44.158Z"
   },
   {
    "duration": 105,
    "start_time": "2022-08-09T18:31:45.659Z"
   },
   {
    "duration": 2,
    "start_time": "2022-08-09T18:31:45.765Z"
   },
   {
    "duration": 1350298,
    "start_time": "2022-08-09T18:31:45.769Z"
   },
   {
    "duration": 7,
    "start_time": "2022-08-09T18:54:16.069Z"
   },
   {
    "duration": 36,
    "start_time": "2022-08-09T18:54:16.078Z"
   },
   {
    "duration": 3,
    "start_time": "2022-08-09T18:54:16.115Z"
   },
   {
    "duration": 6,
    "start_time": "2022-08-09T18:54:16.120Z"
   },
   {
    "duration": 4,
    "start_time": "2022-08-09T18:54:16.128Z"
   },
   {
    "duration": 4,
    "start_time": "2022-08-09T18:54:16.134Z"
   },
   {
    "duration": 5,
    "start_time": "2022-08-09T18:54:16.139Z"
   },
   {
    "duration": 4,
    "start_time": "2022-08-09T18:54:16.146Z"
   },
   {
    "duration": 5953,
    "start_time": "2022-08-09T18:54:16.151Z"
   },
   {
    "duration": 706,
    "start_time": "2022-08-09T18:54:22.105Z"
   },
   {
    "duration": 709,
    "start_time": "2022-08-09T18:54:22.813Z"
   },
   {
    "duration": 3,
    "start_time": "2022-08-09T18:54:23.523Z"
   },
   {
    "duration": 5,
    "start_time": "2022-08-09T18:54:23.528Z"
   },
   {
    "duration": 4,
    "start_time": "2022-08-09T18:54:23.535Z"
   },
   {
    "duration": 43272,
    "start_time": "2022-08-09T18:54:23.540Z"
   },
   {
    "duration": 26133,
    "start_time": "2022-08-09T18:55:06.813Z"
   },
   {
    "duration": 18178,
    "start_time": "2022-08-09T18:55:32.950Z"
   },
   {
    "duration": 5,
    "start_time": "2022-08-09T18:55:51.129Z"
   },
   {
    "duration": 14,
    "start_time": "2022-08-09T18:55:51.148Z"
   },
   {
    "duration": 6,
    "start_time": "2022-08-09T18:55:51.164Z"
   },
   {
    "duration": 16,
    "start_time": "2022-08-09T18:55:51.171Z"
   },
   {
    "duration": 12,
    "start_time": "2022-08-09T18:55:51.188Z"
   }
  ],
  "kernelspec": {
   "display_name": "Python 3 (ipykernel)",
   "language": "python",
   "name": "python3"
  },
  "language_info": {
   "codemirror_mode": {
    "name": "ipython",
    "version": 3
   },
   "file_extension": ".py",
   "mimetype": "text/x-python",
   "name": "python",
   "nbconvert_exporter": "python",
   "pygments_lexer": "ipython3",
   "version": "3.9.12"
  },
  "toc": {
   "base_numbering": 1,
   "nav_menu": {},
   "number_sections": true,
   "sideBar": true,
   "skip_h1_title": true,
   "title_cell": "Table of Contents",
   "title_sidebar": "Contents",
   "toc_cell": false,
   "toc_position": {},
   "toc_section_display": true,
   "toc_window_display": false
  }
 },
 "nbformat": 4,
 "nbformat_minor": 5
}
